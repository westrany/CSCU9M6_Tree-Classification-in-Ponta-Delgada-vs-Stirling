{
 "cells": [
  {
   "cell_type": "markdown",
   "metadata": {
    "id": "4i5afvUbhmGo"
   },
   "source": [
    "---\n",
    "\n",
    "#University of Stirling - Spring 2023\n",
    "\n",
    "## CSCU9M6 - Natural Language Processing and Computer Vision (2022/3)\n",
    "\n",
    "---"
   ]
  },
  {
   "cell_type": "markdown",
   "metadata": {
    "id": "cJZF464wk6Xh"
   },
   "source": [
    "# Assignment Summary\n",
    "\n",
    "In this activity, you are required to apply the knowledge acquired in this module through the design and development of a complete project for image classification in an application to be defined by yourself. For this, you will need to perform the following **mandatory** steps:\n",
    "\n",
    "1. [Problem definition](#scrollTo=hglJVRRslqMn)\n",
    "2. [GitHub repository](#scrollTo=ecxDhkV9qmUf)\n",
    "3. [Dataset](#scrollTo=qEgFzxmWrGA9)\n",
    "4. [Dataloader](#scrollTo=EDd6lLwlx4un)\n",
    "5. [Proposed solution](#scrollTo=ScTrpUW8zOp4)\n",
    "6. [Experimental tests and evaluations](#scrollTo=3RBW58of0ZDo)\n",
    "7. [Quiz and Report](#scrollTo=ws14iV4Dp_vf)\n",
    "\n",
    "**Deadlines** and other details can be seen on Canvas [\\[link\\]](https://canvas.stir.ac.uk/courses/12587/assignments/102373)."
   ]
  },
  {
   "cell_type": "markdown",
   "metadata": {
    "id": "hglJVRRslqMn"
   },
   "source": [
    "---\n",
    "\n",
    "# 1. **Problem definition** \n",
    "\n",
    "\n",
    "In this assignment, you are required to apply the knowledge acquired in the module to solve a classification problem from images collected in the context of two different cities (A and B).\n",
    " - If the work is being carried out in pairs, **cities A and B must be the hometowns of each student**. In the case of individual work, city A must be your hometown and city B must be Stirling (or Edinburgh, if needed).\n",
    " - The standard recommendation is that the project focuses on classifying cars or trees image scenes, which are easier to identify and annotate. Other objects or phenomena can be adopted, but are subject to prior approval by the module instructor (Jefersson A. dos Santos). **You are not allowed to assemble datasets containing people. Other sensitive patterns, such as license plates, must be properly hidden.**\n",
    " - Don't panic! We are aware that acquiring images _in situ_ is an impediment for most students. The dataset can be assembled with images collected remotely or from public repositories. Just be careful with rights and permissions for using images found on the internet. Anyway, these factors must be taken into account for the problem definition.\n",
    " - While we encourage you to do interesting and engaging work, it shouldn't be too complex or time-consuming. Try to appropriately scale the time required for this step. Ask the instructors for advice, if necessary. **GA students:** you are encouraged to link the project with your work activities, but keep in mind you still need to construct two datasets (A and B). \n",
    "\n",
    "[top](#scrollTo=4i5afvUbhmGo)\n",
    " "
   ]
  },
  {
   "cell_type": "markdown",
   "metadata": {
    "id": "ecxDhkV9qmUf"
   },
   "source": [
    "---\n",
    "# 2. **GitHub repository**\n",
    "\n",
    "Give your project a name, create a private [GitHub repository](https://github.com/) with the name [Module Code] + [Project Name] and give access to the module instructors. Create a cover page with a description of your project. This empty notebook must be uploaded in the repository as well as the created dataset. The deadline to perform this task will be 10 days after the publication of this notebook. \n",
    "This notebook should be updated and committed to the repository according to the deadlines.\n",
    "The repository's update history will be used as a criterion for monitoring and evaluating the work.\n",
    "**Check the videos provided in the extra section on Canvas for more details on how to create your GitHub repository** [\\[link\\]](https://canvas.stir.ac.uk/courses/12587/pages/extra-session-cnn-hyperparameters-and-github).\n",
    "\n",
    "[top](#scrollTo=4i5afvUbhmGo)"
   ]
  },
  {
   "cell_type": "markdown",
   "metadata": {
    "id": "qEgFzxmWrGA9"
   },
   "source": [
    "---\n",
    "# 3. **Dataset creation**\n",
    "\n",
    "You must collect a minimum of **200 positive samples** from the study objects for each city (A and B). \n",
    "Note that, depending on the task being solved, it will also be necessary to collect more samples - negative ones, for instance.\n",
    "\n",
    "Your dataset can be assembled from one or more of the following ways:\n",
    "\n",
    "  - *M1* - Pictures taken by yourself on site (street view from cities A and B), with attention to anonymization issues (if it is the case). It is not allowed to assemble datasets containing people. Other sensitive patterns, such as license plates, must be properly hidden.\n",
    "\n",
    "  - *M2* - Aerial satellite/drone images obtained from GIS and remote sensing platforms or public repositories. Be careful with unusual file formats that may be challenging to manipulate using basic image processing libraries. We recommend keeping or converting the images to jpg or png.\n",
    "\n",
    "  - *M3* - Pictures taken from other public available datasets. Remember you are not allowed to use datasets containing people or other sensitive patterns/objects.\n",
    "\n",
    "  - *M4* - Images crawled from the internet as a whole (social networks, webpages, etc), with special attention to use and copyrights.\n",
    "\n",
    "  - *M5* - Textual and metadata you may need in your project, with special attention to use and copyrights (as always!).\n",
    "\n",
    "**Important:** If you collect the images on your own or from aerial imagery repositories, it will be necessary to keep the geographic coordinates. If you collect from specific websites, please retain the source links. This information should be placed in a .csv file and made available along with the final dataset.\n",
    "\n",
    "[top](#scrollTo=4i5afvUbhmGo)"
   ]
  },
  {
   "cell_type": "markdown",
   "metadata": {
    "id": "EDd6lLwlx4un"
   },
   "source": [
    "---\n",
    "\n",
    "# 4. **Dataloader**\n",
    "\n",
    "Here you are required to implement all the code related to pre-processing, cleaning, de-noising and preparing the input images and metadata according to the necessary data structures as input to your pattern recognition module. We recommend using [PyTorch](https://pytorch.org/tutorials/beginner/basics/data_tutorial.html) or [Tensorflow (with Keras)](https://keras.io/getting_started/intro_to_keras_for_engineers/) as a base, but you are free to use any library or platform as long as it is well justified in the [final report](#scrollTo=ws14iV4Dp_vf).\n",
    "\n",
    "[top](scrollTo=4i5afvUbhmGo)"
   ]
  },
  {
   "cell_type": "code",
   "execution_count": 1,
   "metadata": {},
   "outputs": [],
   "source": [
    "# library imports\n",
    "import time, os, sys, numpy as np\n",
    "import torch\n",
    "import torchvision\n",
    "import torch.nn as nn\n",
    "import torch.nn.functional as F\n",
    "import torch._utils_internal\n",
    "\n",
    "import PIL\n",
    "from PIL import Image\n",
    "from torch import optim\n",
    "from torchsummary import summary\n",
    "\n",
    "# test if GPU is avaliable\n",
    "# otherwise use CPU \n",
    "device = torch.device('cuda' if torch.cuda.is_available() else 'cpu')\n",
    "n = torch.cuda.device_count()\n",
    "devices_ids= list(range(n))"
   ]
  },
  {
   "cell_type": "code",
   "execution_count": 2,
   "metadata": {
    "id": "RaPd82NmyNCK"
   },
   "outputs": [],
   "source": [
    "# compute accuracy\n",
    "\n",
    "# data_iter: iterator, provides data batches from given data set\n",
    "# net: neural network model to evaluate\n",
    "# loss: function, evaluates model's predictions\n",
    "\n",
    "def evaluate_accuracy(data_iter, net, loss):\n",
    "    \"\"\"Evaluate model accuracy on a given data set.\"\"\"\n",
    "    \n",
    "    # acc_sum: single element tensor, stores sum of batches' accuracies\n",
    "    # n: total no. of data set samples\n",
    "    # l: loss sum from all batches\n",
    "    acc_sum, n, l = torch.Tensor([0]), 0, 0\n",
    "    net.eval()\n",
    "    with torch.no_grad():\n",
    "        # iterate over each batch consisted of\n",
    "        # x: input data batch\n",
    "        # y: output label batch\n",
    "        for x, y in data_iter:\n",
    "            x, y = x.to(device), y.to(device)\n",
    "            y_hat = net(x)\n",
    "            l += loss(y_hat.argmax(axis=1) == y).sum().item()\n",
    "            n += y.size()[0]\n",
    "        \n",
    "        # return model accuracy and average loss per batch\n",
    "        return acc_sum.item() / n, l.item() / len(data_iter)\n",
    "\n",
    "    \n",
    "# train and validate neural network model \n",
    "\n",
    "# net: neural network model to train and evaluate\n",
    "# train_iter: iterator, provides data batches of training data\n",
    "# test_iter: iterator, provides data batches of test data\n",
    "# batch_size: no. of samples per batch\n",
    "# trainer: optimizer, updates model parameters\n",
    "# loss: function, evaluates model's predictions\n",
    "# num_epochs: no. of times model will be trained on the entire training set\n",
    "\n",
    "def train_validate(net, train_iter, test_iter, batch_size, trainer, \n",
    "                   loss, num_epochs):\n",
    "    print('Training on', device)\n",
    "    # iterate through each epoch in range 0 to num_epochs-1\n",
    "    # epoch: complete iteration over the entire training set\n",
    "    for epoch in range(num_epochs):\n",
    "        net.train()\n",
    "        # initialize vars used to track training progress\n",
    "        # train_l_sum: sum of losses of all batches in current epoch\n",
    "        # train_acc_sum: sum of accuracies of all batches in current epoch\n",
    "        # n: total no. of samples in current epoch\n",
    "        # start: current time in seconds\n",
    "        train_l_sum, train_acc_sum, n, start = 0.0, 0.0, 0, time.time()\n",
    "        # iterate over each training data batch in train_iter, consists of\n",
    "        # x: input data batch\n",
    "        # y: output label batch\n",
    "        for x, y in train_iter:\n",
    "            x, y = x.to(device), y.to(device)\n",
    "            y_hat = net(x)\n",
    "            trainer.zero_grad()\n",
    "            l = loss(y_hat, y).sum()\n",
    "            l.backward()\n",
    "            trainer.step()\n",
    "            # update progress tracking vars\n",
    "            # train_l_sum: updated with current batch loss\n",
    "            # train_acc_sum: updated with current batch accuracy\n",
    "            # n: updated with current batch size\n",
    "            train_l_sum += (y_hat.argmax(axis = 1) == y).sum().item()\n",
    "            n += y.size()[0]\n",
    "        test_acc, test_loss = evaluate+accuracy(test_iter, net, loss)\n",
    "        # print sumarized training process for current epoch including\n",
    "        # epoch no., average training loss, training accuracy, test loss,\n",
    "        # test accuracy, time taken to complete epoch\n",
    "        print('epoch %d, train loss %.4f, train acc %.3f, test loss %.4f, '\n",
    "              'test acc %.3f, time %.1f sec' \n",
    "              % (epoch + 1, train_l_sum / len(train_iter), train_acc_sum / n, \n",
    "               test_loss, test_acc, time.time() - start))\n",
    "        # function returns nothing since all progress\n",
    "        # is printed to console"
   ]
  },
  {
   "cell_type": "markdown",
   "metadata": {},
   "source": [
    "### Labels correspondence\n",
    "\n",
    "|**#**   |**City**   |**Species**   |**Label**   |\n",
    "|:-:|:-:|:--:|:--:|\n",
    "|1   |A & B|no tree in image   | not  | \n",
    "|2  |A   |araucaria               |ara   |\n",
    "|3 |A   |banana tree                |ban   |\n",
    "|4|A   |chestnut                 |che   |\n",
    "|5   |A   |palm tree        |pal   |\n",
    "|6   |A   |plane tree           |pla   |\n",
    "|7   | A  |australian rubber tre   |art  |\n",
    "|8   |A   |cedar                   |ced   |\n",
    "|9   | B  |ash tree           |ash   |\n",
    "|10   | B  |sycamore    |     syc  |  \n",
    "|11   | B |oak   |oak   |\n",
    "|12   | B  |apple tree   |app   |\n",
    "|13   | B  |Scots pine   |pin  |\n",
    "|14   | B  |beech   |bee   |  \n",
    "|15   |  B |bird cherry tree   |bct   |"
   ]
  },
  {
   "cell_type": "code",
   "execution_count": 3,
   "metadata": {},
   "outputs": [
    {
     "ename": "KeyError",
     "evalue": "'images'",
     "output_type": "error",
     "traceback": [
      "\u001b[1;31m---------------------------------------------------------------------------\u001b[0m",
      "\u001b[1;31mKeyError\u001b[0m                                  Traceback (most recent call last)",
      "\u001b[1;32m~\\AppData\\Local\\Temp\\ipykernel_11108\\2477290545.py\u001b[0m in \u001b[0;36m<module>\u001b[1;34m\u001b[0m\n\u001b[0;32m    113\u001b[0m \u001b[1;31m# load data\u001b[0m\u001b[1;33m\u001b[0m\u001b[1;33m\u001b[0m\u001b[0m\n\u001b[0;32m    114\u001b[0m \u001b[0mbatch_size\u001b[0m \u001b[1;33m=\u001b[0m \u001b[1;36m32\u001b[0m\u001b[1;33m\u001b[0m\u001b[1;33m\u001b[0m\u001b[0m\n\u001b[1;32m--> 115\u001b[1;33m train_iter, test_iter = load_data(TreesDataset, \n\u001b[0m\u001b[0;32m    116\u001b[0m                                   \u001b[0mos\u001b[0m\u001b[1;33m.\u001b[0m\u001b[0mpath\u001b[0m\u001b[1;33m.\u001b[0m\u001b[0mjoin\u001b[0m\u001b[1;33m(\u001b[0m\u001b[1;34m'dtd'\u001b[0m\u001b[1;33m)\u001b[0m\u001b[1;33m,\u001b[0m\u001b[1;33m\u001b[0m\u001b[1;33m\u001b[0m\u001b[0m\n\u001b[0;32m    117\u001b[0m                                   \u001b[0mbatch_size\u001b[0m\u001b[1;33m,\u001b[0m\u001b[1;33m\u001b[0m\u001b[1;33m\u001b[0m\u001b[0m\n",
      "\u001b[1;32m~\\AppData\\Local\\Temp\\ipykernel_11108\\2477290545.py\u001b[0m in \u001b[0;36mload_data\u001b[1;34m(dataset, root, batch_size, resize)\u001b[0m\n\u001b[0;32m     89\u001b[0m \u001b[1;33m\u001b[0m\u001b[0m\n\u001b[0;32m     90\u001b[0m     \u001b[1;31m# get training data\u001b[0m\u001b[1;33m\u001b[0m\u001b[1;33m\u001b[0m\u001b[0m\n\u001b[1;32m---> 91\u001b[1;33m     train = dataset(root = root,\n\u001b[0m\u001b[0;32m     92\u001b[0m                     \u001b[0mtransform\u001b[0m \u001b[1;33m=\u001b[0m \u001b[0mtransformer\u001b[0m\u001b[1;33m,\u001b[0m\u001b[1;33m\u001b[0m\u001b[1;33m\u001b[0m\u001b[0m\n\u001b[0;32m     93\u001b[0m                     train = True)\n",
      "\u001b[1;32m~\\AppData\\Local\\Temp\\ipykernel_11108\\2477290545.py\u001b[0m in \u001b[0;36m__init__\u001b[1;34m(self, root, transform, train, calc_norm, has_norm)\u001b[0m\n\u001b[0;32m     12\u001b[0m                   'oak': 10, 'app': 11, 'pin': 12, 'bee': 13, 'bct': 14}\n\u001b[0;32m     13\u001b[0m         \u001b[0mself\u001b[0m\u001b[1;33m.\u001b[0m\u001b[0mtransform\u001b[0m \u001b[1;33m=\u001b[0m \u001b[0mtransform\u001b[0m\u001b[1;33m\u001b[0m\u001b[1;33m\u001b[0m\u001b[0m\n\u001b[1;32m---> 14\u001b[1;33m         \u001b[0mself\u001b[0m\u001b[1;33m.\u001b[0m\u001b[0mload_images\u001b[0m\u001b[1;33m(\u001b[0m\u001b[1;33m)\u001b[0m\u001b[1;33m\u001b[0m\u001b[1;33m\u001b[0m\u001b[0m\n\u001b[0m\u001b[0;32m     15\u001b[0m \u001b[1;33m\u001b[0m\u001b[0m\n\u001b[0;32m     16\u001b[0m     \u001b[1;32mdef\u001b[0m \u001b[0mload_images\u001b[0m\u001b[1;33m(\u001b[0m\u001b[0mself\u001b[0m\u001b[1;33m)\u001b[0m\u001b[1;33m:\u001b[0m\u001b[1;33m\u001b[0m\u001b[1;33m\u001b[0m\u001b[0m\n",
      "\u001b[1;32m~\\AppData\\Local\\Temp\\ipykernel_11108\\2477290545.py\u001b[0m in \u001b[0;36mload_images\u001b[1;34m(self)\u001b[0m\n\u001b[0;32m     15\u001b[0m \u001b[1;33m\u001b[0m\u001b[0m\n\u001b[0;32m     16\u001b[0m     \u001b[1;32mdef\u001b[0m \u001b[0mload_images\u001b[0m\u001b[1;33m(\u001b[0m\u001b[0mself\u001b[0m\u001b[1;33m)\u001b[0m\u001b[1;33m:\u001b[0m\u001b[1;33m\u001b[0m\u001b[1;33m\u001b[0m\u001b[0m\n\u001b[1;32m---> 17\u001b[1;33m         \u001b[0mself\u001b[0m\u001b[1;33m.\u001b[0m\u001b[0mimg_list\u001b[0m\u001b[1;33m,\u001b[0m \u001b[0mself\u001b[0m\u001b[1;33m.\u001b[0m\u001b[0mlabels\u001b[0m \u001b[1;33m=\u001b[0m \u001b[0mself\u001b[0m\u001b[1;33m.\u001b[0m\u001b[0mread_images\u001b[0m\u001b[1;33m(\u001b[0m\u001b[0mroot\u001b[0m \u001b[1;33m=\u001b[0m \u001b[0mself\u001b[0m\u001b[1;33m.\u001b[0m\u001b[0mroot\u001b[0m\u001b[1;33m)\u001b[0m\u001b[1;33m\u001b[0m\u001b[1;33m\u001b[0m\u001b[0m\n\u001b[0m\u001b[0;32m     18\u001b[0m \u001b[1;33m\u001b[0m\u001b[0m\n\u001b[0;32m     19\u001b[0m     \u001b[1;32mdef\u001b[0m \u001b[0mread_images\u001b[0m\u001b[1;33m(\u001b[0m\u001b[0mself\u001b[0m\u001b[1;33m,\u001b[0m \u001b[0mroot\u001b[0m\u001b[1;33m)\u001b[0m\u001b[1;33m:\u001b[0m\u001b[1;33m\u001b[0m\u001b[1;33m\u001b[0m\u001b[0m\n",
      "\u001b[1;32m~\\AppData\\Local\\Temp\\ipykernel_11108\\2477290545.py\u001b[0m in \u001b[0;36mread_images\u001b[1;34m(self, root)\u001b[0m\n\u001b[0;32m     25\u001b[0m             \u001b[1;32mfor\u001b[0m \u001b[0mimg_path\u001b[0m \u001b[1;32min\u001b[0m \u001b[0mdata_list\u001b[0m\u001b[1;33m:\u001b[0m\u001b[1;33m\u001b[0m\u001b[1;33m\u001b[0m\u001b[0m\n\u001b[0;32m     26\u001b[0m                 \u001b[0mimg_list\u001b[0m\u001b[1;33m.\u001b[0m\u001b[0mappend\u001b[0m\u001b[1;33m(\u001b[0m\u001b[0mos\u001b[0m\u001b[1;33m.\u001b[0m\u001b[0mpath\u001b[0m\u001b[1;33m.\u001b[0m\u001b[0mjoin\u001b[0m\u001b[1;33m(\u001b[0m\u001b[0mroot\u001b[0m\u001b[1;33m,\u001b[0m \u001b[1;34m'images'\u001b[0m\u001b[1;33m,\u001b[0m \u001b[0mimg_path\u001b[0m\u001b[1;33m)\u001b[0m\u001b[1;33m)\u001b[0m\u001b[1;33m\u001b[0m\u001b[1;33m\u001b[0m\u001b[0m\n\u001b[1;32m---> 27\u001b[1;33m                 \u001b[0mlabels\u001b[0m\u001b[1;33m.\u001b[0m\u001b[0mappend\u001b[0m\u001b[1;33m(\u001b[0m\u001b[0mself\u001b[0m\u001b[1;33m.\u001b[0m\u001b[0mle\u001b[0m\u001b[1;33m[\u001b[0m\u001b[0mimg_path\u001b[0m\u001b[1;33m.\u001b[0m\u001b[0msplit\u001b[0m\u001b[1;33m(\u001b[0m\u001b[1;34m'/'\u001b[0m\u001b[1;33m)\u001b[0m\u001b[1;33m[\u001b[0m\u001b[1;36m0\u001b[0m\u001b[1;33m]\u001b[0m\u001b[1;33m]\u001b[0m\u001b[1;33m)\u001b[0m\u001b[1;33m\u001b[0m\u001b[1;33m\u001b[0m\u001b[0m\n\u001b[0m\u001b[0;32m     28\u001b[0m \u001b[1;33m\u001b[0m\u001b[0m\n\u001b[0;32m     29\u001b[0m             \u001b[1;31m# validate data\u001b[0m\u001b[1;33m\u001b[0m\u001b[1;33m\u001b[0m\u001b[0m\n",
      "\u001b[1;31mKeyError\u001b[0m: 'images'"
     ]
    }
   ],
   "source": [
    "# implement TreesDataset class\n",
    "\n",
    "class TreesDataset(torch.utils.data.Dataset):\n",
    "\n",
    "    def __init__(self, root, transform, train=False, calc_norm=False, has_norm=True):\n",
    "        self.root = root\n",
    "        self.train = train\n",
    "        self.calc_norm = calc_norm\n",
    "        self.has_norm = has_norm\n",
    "        self.le = {'not': 0, 'ara': 1, 'ban': 2, 'che': 3, 'pal': 4, \n",
    "                   'pla': 5, 'art': 6, 'ced': 7, 'ash': 8, 'syc': 9, \n",
    "                  'oak': 10, 'app': 11, 'pin': 12, 'bee': 13, 'bct': 14}\n",
    "        self.transform = transform\n",
    "        self.load_images()\n",
    "        \n",
    "    def load_images(self):\n",
    "        self.img_list, self.labels = self.read_images(root = self.root)\n",
    "        \n",
    "    def read_images(self, root):\n",
    "        img_list, labels = [], []\n",
    "        if self.train is True:\n",
    "            # train data\n",
    "            data_file = open(os.path.join('dtd', 'labels', 'train1.txt'), \"r\")  \n",
    "            data_list = [i.replace('\\n', '') for i in data_file.readlines()]\n",
    "            for img_path in data_list:\n",
    "                img_list.append(os.path.join(root, 'images', img_path))\n",
    "                labels.append(self.le[img_path.split('/')[0]])\n",
    "            \n",
    "            # validate data\n",
    "            data_file = open(os.path.join(root, 'labels', 'val1.txt'), \"r\")  \n",
    "            data_list = [i.replace('\\n', '') for i in data_file.readlines()]\n",
    "            for img_path in data_list:\n",
    "                img_list.append(os.path.join(root, 'images', img_path))\n",
    "                labels.append(self.le[img_path.split('/')[0]])\n",
    "                \n",
    "        else:\n",
    "            # test data\n",
    "            data_file = open(os.path.join(root, 'labels', 'test1.txt'), \"r\")\n",
    "            data_list = [i.replace('\\n', '') for i in data_file.readlines()]\n",
    "            for img_path in data_list:\n",
    "                img_list.append(os.path.join(root, 'images', img_path))\n",
    "                labels.append(self.le[img_path.split('/')[0]])\n",
    "                                \n",
    "        return img_list, labels\n",
    "                \n",
    "    def __getitem__(self, item):\n",
    "        if self.has_norm is True:\n",
    "            # normalize the image if has_norm is set to True\n",
    "            cur_img = self.normalize_image(self.transform(Image.open(self.img_list[item])))\n",
    "        else:\n",
    "            # just convert the image to tensor, without normalizing\n",
    "            cur_img = self.transform(Image.open(self.img_list[item]))\n",
    "        cur_label = self.labels[item]\n",
    "        return cur_img, cur_label\n",
    "        \n",
    "    def __len__(self):\n",
    "        return len(self.img_list)\n",
    "    \n",
    "    # image normalization\n",
    "    # calc_norm True: normalize by subtracting the mean divided by the\n",
    "    #                 deviation for each image channel\n",
    "    # calc_norm False: normalize by predifined mean and \n",
    "    #                  standard deviation values\n",
    "    \n",
    "    def normalize_image(self, img):\n",
    "        if self.calc_norm is True:\n",
    "            for i in range(img.shape[0]):\n",
    "                mu = img[i, :, :].mean()\n",
    "                std = img[i, :, :].std()\n",
    "                img[i, :, :] = ((img[i, :, :] - mu) / std)\n",
    "        else:\n",
    "            img = torchvision.transforms.functional.normalize(img,\n",
    "                                                mean=torch.Tensor([0.485, 0.456, 0.406]),\n",
    "                                                std=torch.Tensor([0.229, 0.224, 0.225]))\n",
    "        return img\n",
    "    \n",
    "    # sequence of image transformations defined by transformer\n",
    "def load_data(dataset, root, batch_size, resize=None):\n",
    "        \n",
    "    transformer = []\n",
    "    \n",
    "    if resize is not None:\n",
    "        transformer += [torchvision.transforms.Resize(size=(resize,resize))]\n",
    "        \n",
    "    else:\n",
    "        transformer += [torchvision.transforms.RandomCrop(224, padding=4)]\n",
    "    transformer += [torchvision.transforms.ToTensor()]\n",
    "    transformer = torchvision.transforms.Compose(transformer)\n",
    "        \n",
    "    # get training data\n",
    "    train = dataset(root = root,\n",
    "                    transform = transformer,\n",
    "                    train = True)\n",
    "    # get validation data\n",
    "    test = dataset(root = root,\n",
    "                    transform = transformer,\n",
    "                    train = False)\n",
    "        \n",
    "    num_workers = 0 if sys.platform.startswith('win32') else 4\n",
    "        \n",
    "    # create training dataloader\n",
    "    train_iter = torch.utils.data.DataLoader(train,\n",
    "                                batch_size, shuffle=True,\n",
    "                                num_workers=num_workers)\n",
    "        \n",
    "    # create testing dataloader\n",
    "    test_iter = torch.utils.data.DataLoader(test,\n",
    "                                batch_size, shuffle=False,\n",
    "                                num_workers=num_workers)\n",
    "        \n",
    "    return train_iter, test_iter\n",
    "\n",
    "# load data\n",
    "batch_size = 32\n",
    "train_iter = load_data(TreesDataset, \n",
    "                      os.path.join('dtd'), \n",
    "                      batch_size, \n",
    "                      resize=None)\n",
    "\n",
    "test_iter = = load_data(TreesDataset, \n",
    "                      os.path.join('dtd'), \n",
    "                      batch_size, \n",
    "                      resize=None)"
   ]
  },
  {
   "cell_type": "code",
   "execution_count": 4,
   "metadata": {},
   "outputs": [
    {
     "name": "stderr",
     "output_type": "stream",
     "text": [
      "C:\\Users\\maria\\anaconda3\\lib\\site-packages\\torchvision\\models\\_utils.py:208: UserWarning: The parameter 'pretrained' is deprecated since 0.13 and will be removed in 0.15, please use 'weights' instead.\n",
      "  warnings.warn(\n",
      "C:\\Users\\maria\\anaconda3\\lib\\site-packages\\torchvision\\models\\_utils.py:223: UserWarning: Arguments other than a weight enum or `None` for 'weights' are deprecated since 0.13 and will be removed in 0.15. The current behavior is equivalent to passing `weights=ResNet34_Weights.IMAGENET1K_V1`. You can also use `weights=ResNet34_Weights.DEFAULT` to get the most up-to-date weights.\n",
      "  warnings.warn(msg)\n"
     ]
    },
    {
     "ename": "NameError",
     "evalue": "name 'train_iter' is not defined",
     "output_type": "error",
     "traceback": [
      "\u001b[1;31m---------------------------------------------------------------------------\u001b[0m",
      "\u001b[1;31mNameError\u001b[0m                                 Traceback (most recent call last)",
      "\u001b[1;32m~\\AppData\\Local\\Temp\\ipykernel_11108\\1478561554.py\u001b[0m in \u001b[0;36m<module>\u001b[1;34m\u001b[0m\n\u001b[0;32m     18\u001b[0m \u001b[1;33m\u001b[0m\u001b[0m\n\u001b[0;32m     19\u001b[0m \u001b[1;31m# train and validade\u001b[0m\u001b[1;33m\u001b[0m\u001b[1;33m\u001b[0m\u001b[0m\n\u001b[1;32m---> 20\u001b[1;33m \u001b[0mtrain_validate\u001b[0m\u001b[1;33m(\u001b[0m\u001b[0mmodel\u001b[0m\u001b[1;33m,\u001b[0m \u001b[0mtrain_iter\u001b[0m\u001b[1;33m,\u001b[0m \u001b[0mtest_iter\u001b[0m\u001b[1;33m,\u001b[0m \u001b[0mbatch_size\u001b[0m\u001b[1;33m,\u001b[0m \u001b[0moptimizer\u001b[0m\u001b[1;33m,\u001b[0m \u001b[0mloss\u001b[0m\u001b[1;33m,\u001b[0m \u001b[0mnum_epochs\u001b[0m\u001b[1;33m)\u001b[0m\u001b[1;33m\u001b[0m\u001b[1;33m\u001b[0m\u001b[0m\n\u001b[0m",
      "\u001b[1;31mNameError\u001b[0m: name 'train_iter' is not defined"
     ]
    }
   ],
   "source": [
    "NUM_CLASSES = 15\n",
    "num_epochs = 20\n",
    "lr = 0.001\n",
    "\n",
    "# use pre-trained Alexnet from torchvision\n",
    "model = torchvision.models.resnet34(pretrained=True)\n",
    "\n",
    "# change output of last classification layer to no. of classes\n",
    "num_ftrs = model.fc.in_features\n",
    "model.fc = nn.Linear(num_ftrs,NUM_CLASSES)\n",
    "model = model.to(device)\n",
    "\n",
    "# define loss\n",
    "loss = nn.CrossEntropyLoss().to(device)\n",
    "\n",
    "# define optimizer\n",
    "optimizer = torch.optim.Adam(model.parameters(), lr=lr)\n",
    "\n",
    "# train and validade\n",
    "train_validate(model, train_iter, test_iter, batch_size, optimizer, loss, num_epochs)"
   ]
  },
  {
   "cell_type": "markdown",
   "metadata": {
    "id": "ScTrpUW8zOp4"
   },
   "source": [
    "---\n",
    "\n",
    "# 5. **Proposed solution** \n",
    "\n",
    "This is where you should implement most of your code for your solution. Write the routines for training and predicting the models and any necessary intermediate steps. Post-processing functions must also be implemented here.\n",
    "\n",
    "  - Use good programming practices, modularizing and adequately commenting on your code. Code quality will be considered in the final assessment.\n",
    "\n",
    "  - You can use pre-trained models as backbones or any code available on the web as a basis, but they must be correctly credited and referenced both in this notebook and in the final report. Cite the source link repository and explicitly cite the authors of it.\n",
    "If you changed existing code, make it clear what the changes were.\n",
    "Make it clear where your own code starts and where it ends. Note that the originality percentage of the code will be considered in the evaluation, so use external codes wisely and sparingly. **Missconduct alert:** remember that there are many tools that compare existing source code and that it is relatively easy to identify authorship. So, be careful and fair by always properly thanking the authors if you use external code.\n",
    "\n",
    "[top](#scrollTo=4i5afvUbhmGo)"
   ]
  },
  {
   "cell_type": "code",
   "execution_count": null,
   "metadata": {
    "id": "jJs8HpW_zX0M"
   },
   "outputs": [],
   "source": []
  },
  {
   "cell_type": "markdown",
   "metadata": {
    "id": "3RBW58of0ZDo"
   },
   "source": [
    "---\n",
    "\n",
    "# 6. **Experimental tests and evaluations** \n",
    "\n",
    "\n",
    "Here you must implement your code for training, testing and evaluating your solution. For this, the following code blocks (*E1*, *E2*, and *E3*) are mandatory:\n",
    "\n",
    "  - *E1* - Training the models. Implement code to call the dataloaders implemented for training your models.  Make routines to test different parameters of your models. Plot graphs that illustrate how parameters impact model training. Compare. Train and select a model for each city (A and B) and justify. You should use half (50%) of the samples from each dataset for training and leave the other half for testing (50%). \n",
    "\n",
    "[top](#scrollTo=4i5afvUbhmGo)"
   ]
  },
  {
   "cell_type": "code",
   "execution_count": null,
   "metadata": {
    "id": "jHWwdXg32BEl"
   },
   "outputs": [],
   "source": [
    "# Write your codes for E1 here. Create more code cells if needed\n",
    "\n",
    "\n",
    "\n"
   ]
  },
  {
   "cell_type": "markdown",
   "metadata": {
    "id": "TunTimEv1szf"
   },
   "source": [
    "  - *E2* - Testing the models in the dataset. You must implement code routines to test the predictive ability of your models using half of each dataset intended for testing. **The model trained in city A must be tested in city A. The model trained in city B must be tested in city B.** Use the evaluation metrics (accuracy, F1-score, AUC, etc) that are most appropriate for your problem. Plot graphs that illustrate the results obtained for each city (A and B). Plot visual examples of correctly (true positive) and incorrectly (false positive) classified samples. \n",
    "\n",
    "[top](#scrollTo=4i5afvUbhmGo)\n"
   ]
  },
  {
   "cell_type": "code",
   "execution_count": null,
   "metadata": {
    "id": "_s6ygCpi2CO8"
   },
   "outputs": [],
   "source": [
    "# Write your codes for E2 here. Create more code cells if needed\n",
    "\n",
    "\n",
    "\n"
   ]
  },
  {
   "cell_type": "markdown",
   "metadata": {
    "id": "bZ0zVXjQ1x0_"
   },
   "source": [
    "  - *E3* - Testing the models crossing datasets. Here you must do exactly the same as in *E2*, but now training in one city and testing in the other. **The model trained in city A must be tested in city B. The model trained in city B must be tested in city A.** Use the same metrics and plot the same types of graphs so that results are comparable.\n",
    "\n",
    "[top](scrollTo=4i5afvUbhmGo)"
   ]
  },
  {
   "cell_type": "code",
   "execution_count": null,
   "metadata": {
    "id": "Cotguzxyo3Sa"
   },
   "outputs": [],
   "source": [
    "# Write your codes for E3 here. Create more code cells if needed\n",
    "\n",
    "\n",
    "\n"
   ]
  },
  {
   "cell_type": "markdown",
   "metadata": {
    "id": "ws14iV4Dp_vf"
   },
   "source": [
    "---\n",
    "\n",
    "# 7. **Quiz and Report**\n",
    "\n",
    "Answer the assessment quiz that will be made available on Canvas one week before the final deadline. Make a 2-page report using the [IEEE template](https://www.overleaf.com/read/rdqwshtvyjdn) with a maximum of 1000 words. Latex is recommended, but you can deliver the report in MS Word if you prefer. Your report should contain five sections: introduction, description of the proposed solution with justifications, results (here you can include the same graphs and pictures generated in this jupyter notebook), discussion of the results, and conclusion. Properly cite references to articles, tutorials, and sources used. A pdf version of your report should be made available in the project's github repository under the name \"[project name] + _final_report.pdf\".\n",
    "\n",
    "\n",
    "[top](#scrollTo=4i5afvUbhmGo)"
   ]
  }
 ],
 "metadata": {
  "colab": {
   "provenance": []
  },
  "kernelspec": {
   "display_name": "Python 3 (ipykernel)",
   "language": "python",
   "name": "python3"
  },
  "language_info": {
   "codemirror_mode": {
    "name": "ipython",
    "version": 3
   },
   "file_extension": ".py",
   "mimetype": "text/x-python",
   "name": "python",
   "nbconvert_exporter": "python",
   "pygments_lexer": "ipython3",
   "version": "3.9.13"
  }
 },
 "nbformat": 4,
 "nbformat_minor": 1
}
