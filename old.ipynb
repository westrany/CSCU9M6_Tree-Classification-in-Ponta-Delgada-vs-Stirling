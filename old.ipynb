{
 "cells": [
  {
   "cell_type": "markdown",
   "metadata": {
    "id": "4i5afvUbhmGo"
   },
   "source": [
    "---\n",
    "\n",
    "#University of Stirling - Spring 2023\n",
    "\n",
    "## CSCU9M6 - Natural Language Processing and Computer Vision (2022/3)\n",
    "\n",
    "---"
   ]
  },
  {
   "cell_type": "markdown",
   "metadata": {
    "id": "cJZF464wk6Xh"
   },
   "source": [
    "# Assignment Summary\n",
    "\n",
    "In this activity, you are required to apply the knowledge acquired in this module through the design and development of a complete project for image classification in an application to be defined by yourself. For this, you will need to perform the following **mandatory** steps:\n",
    "\n",
    "1. [Problem definition](#scrollTo=hglJVRRslqMn)\n",
    "2. [GitHub repository](#scrollTo=ecxDhkV9qmUf)\n",
    "3. [Dataset](#scrollTo=qEgFzxmWrGA9)\n",
    "4. [Dataloader](#scrollTo=EDd6lLwlx4un)\n",
    "5. [Proposed solution](#scrollTo=ScTrpUW8zOp4)\n",
    "6. [Experimental tests and evaluations](#scrollTo=3RBW58of0ZDo)\n",
    "7. [Quiz and Report](#scrollTo=ws14iV4Dp_vf)\n",
    "\n",
    "**Deadlines** and other details can be seen on Canvas [\\[link\\]](https://canvas.stir.ac.uk/courses/12587/assignments/102373)."
   ]
  },
  {
   "cell_type": "markdown",
   "metadata": {
    "id": "hglJVRRslqMn"
   },
   "source": [
    "---\n",
    "\n",
    "# 1. **Problem definition** \n",
    "\n",
    "\n",
    "In this assignment, you are required to apply the knowledge acquired in the module to solve a classification problem from images collected in the context of two different cities (A and B).\n",
    " - If the work is being carried out in pairs, **cities A and B must be the hometowns of each student**. In the case of individual work, city A must be your hometown and city B must be Stirling (or Edinburgh, if needed).\n",
    " - The standard recommendation is that the project focuses on classifying cars or trees image scenes, which are easier to identify and annotate. Other objects or phenomena can be adopted, but are subject to prior approval by the module instructor (Jefersson A. dos Santos). **You are not allowed to assemble datasets containing people. Other sensitive patterns, such as license plates, must be properly hidden.**\n",
    " - Don't panic! We are aware that acquiring images _in situ_ is an impediment for most students. The dataset can be assembled with images collected remotely or from public repositories. Just be careful with rights and permissions for using images found on the internet. Anyway, these factors must be taken into account for the problem definition.\n",
    " - While we encourage you to do interesting and engaging work, it shouldn't be too complex or time-consuming. Try to appropriately scale the time required for this step. Ask the instructors for advice, if necessary. **GA students:** you are encouraged to link the project with your work activities, but keep in mind you still need to construct two datasets (A and B). \n",
    "\n",
    "[top](#scrollTo=4i5afvUbhmGo)\n",
    " "
   ]
  },
  {
   "cell_type": "markdown",
   "metadata": {
    "id": "ecxDhkV9qmUf"
   },
   "source": [
    "---\n",
    "# 2. **GitHub repository**\n",
    "\n",
    "Give your project a name, create a private [GitHub repository](https://github.com/) with the name [Module Code] + [Project Name] and give access to the module instructors. Create a cover page with a description of your project. This empty notebook must be uploaded in the repository as well as the created dataset. The deadline to perform this task will be 10 days after the publication of this notebook. \n",
    "This notebook should be updated and committed to the repository according to the deadlines.\n",
    "The repository's update history will be used as a criterion for monitoring and evaluating the work.\n",
    "**Check the videos provided in the extra section on Canvas for more details on how to create your GitHub repository** [\\[link\\]](https://canvas.stir.ac.uk/courses/12587/pages/extra-session-cnn-hyperparameters-and-github).\n",
    "\n",
    "[top](#scrollTo=4i5afvUbhmGo)"
   ]
  },
  {
   "cell_type": "markdown",
   "metadata": {
    "id": "qEgFzxmWrGA9"
   },
   "source": [
    "---\n",
    "# 3. **Dataset creation**\n",
    "\n",
    "You must collect a minimum of **200 positive samples** from the study objects for each city (A and B). \n",
    "Note that, depending on the task being solved, it will also be necessary to collect more samples - negative ones, for instance.\n",
    "\n",
    "Your dataset can be assembled from one or more of the following ways:\n",
    "\n",
    "  - *M1* - Pictures taken by yourself on site (street view from cities A and B), with attention to anonymization issues (if it is the case). It is not allowed to assemble datasets containing people. Other sensitive patterns, such as license plates, must be properly hidden.\n",
    "\n",
    "  - *M2* - Aerial satellite/drone images obtained from GIS and remote sensing platforms or public repositories. Be careful with unusual file formats that may be challenging to manipulate using basic image processing libraries. We recommend keeping or converting the images to jpg or png.\n",
    "\n",
    "  - *M3* - Pictures taken from other public available datasets. Remember you are not allowed to use datasets containing people or other sensitive patterns/objects.\n",
    "\n",
    "  - *M4* - Images crawled from the internet as a whole (social networks, webpages, etc), with special attention to use and copyrights.\n",
    "\n",
    "  - *M5* - Textual and metadata you may need in your project, with special attention to use and copyrights (as always!).\n",
    "\n",
    "**Important:** If you collect the images on your own or from aerial imagery repositories, it will be necessary to keep the geographic coordinates. If you collect from specific websites, please retain the source links. This information should be placed in a .csv file and made available along with the final dataset.\n",
    "\n",
    "[top](#scrollTo=4i5afvUbhmGo)"
   ]
  },
  {
   "cell_type": "markdown",
   "metadata": {
    "id": "EDd6lLwlx4un"
   },
   "source": [
    "---\n",
    "\n",
    "# 4. **Dataloader**\n",
    "\n",
    "Here you are required to implement all the code related to pre-processing, cleaning, de-noising and preparing the input images and metadata according to the necessary data structures as input to your pattern recognition module. We recommend using [PyTorch](https://pytorch.org/tutorials/beginner/basics/data_tutorial.html) or [Tensorflow (with Keras)](https://keras.io/getting_started/intro_to_keras_for_engineers/) as a base, but you are free to use any library or platform as long as it is well justified in the [final report](#scrollTo=ws14iV4Dp_vf).\n",
    "\n",
    "[top](scrollTo=4i5afvUbhmGo)"
   ]
  },
  {
   "cell_type": "code",
   "execution_count": 1,
   "metadata": {},
   "outputs": [
    {
     "name": "stdout",
     "output_type": "stream",
     "text": [
      "WARNING:tensorflow:From C:\\Users\\maria\\anaconda3\\envs\\tf\\lib\\site-packages\\tensorflow\\python\\compat\\v2_compat.py:107: disable_resource_variables (from tensorflow.python.ops.variable_scope) is deprecated and will be removed in a future version.\n",
      "Instructions for updating:\n",
      "non-resource variables are not supported in the long term\n",
      "curses is not supported on this machine (please install/reinstall curses for an optimal experience)\n"
     ]
    }
   ],
   "source": [
    "# import necessary libraries\n",
    "import cv2\n",
    "\n",
    "import os\n",
    "\n",
    "import numpy as np\n",
    "\n",
    "from random import shuffle\n",
    "\n",
    "from tqdm import tqdm\n",
    "\n",
    "import tensorflow as tf\n",
    "\n",
    "from tensorflow.keras.layers import Input, Conv2D\n",
    "\n",
    "import tflearn\n",
    "from tflearn.layers.conv import conv_2d, max_pool_2d\n",
    "from tflearn.layers.core import input_data, dropout, fully_connected\n",
    "from tflearn.layers.estimator import regression\n",
    "\n",
    "import matplotlib.pyplot as plt"
   ]
  },
  {
   "cell_type": "code",
   "execution_count": 2,
   "metadata": {
    "id": "RaPd82NmyNCK"
   },
   "outputs": [],
   "source": [
    "# based on code from Subhajit Saha on:\n",
    "# https://www.geeksforgeeks.org/image-classifier-using-cnn/\n",
    "\n",
    "# environment setup \n",
    "# learning rate set to 0.001\n",
    "TRAIN_DIR = 'C:/Users/maria/Documents/GitHub/CSCU9M6-2929300/Dataset/train'\n",
    "TEST_DIR = 'C:/Users/maria/Documents/GitHub/CSCU9M6-2929300/Dataset/test'\n",
    "IMG_SIZE = 50\n",
    "LR = 1e-3 \n",
    "\n",
    "\n",
    "# setup model to help tensorflow models\n",
    "MODEL_ONE = 'treeDetection-{}-{}.model'.format(LR, '6conv-basic')\n",
    "\n",
    "\n",
    "# label dataset\n",
    "def label_img(img):\n",
    "    word_label = img.split('.')[-3]\n",
    "    #hot encoder\n",
    "    if word_label == 'ca': return [1,0]\n",
    "    elif word_label == 'cb': return [0,1]\n",
    "    \n",
    "    \n",
    "# training data creation\n",
    "def create_train_data():\n",
    "    #empty list to store training data after processing\n",
    "    training_data = []\n",
    "    \n",
    "    # tqdm used for interactive loading of training data\n",
    "    for img in tqdm(os.listdir(TRAIN_DIR)):\n",
    "        \n",
    "        # label images\n",
    "        label = label_img(img)\n",
    "        \n",
    "        path = os.path.join(TRAIN_DIR, img)\n",
    "        \n",
    "        # load image from path\n",
    "        # convert into grayscale \n",
    "        \n",
    "        img = cv2.imread(path, cv2.IMREAD_GRAYSCALE)\n",
    "        \n",
    "        # resize image to process\n",
    "        # into covnet\n",
    "        img = cv2.resize(img, (IMG_SIZE, IMG_SIZE))\n",
    "        \n",
    "        # form trainind data list with \n",
    "        # image numpy array\n",
    "        training_data.append([np.array(img), np.array(label)])\n",
    "        \n",
    "    # shuffle training data to \n",
    "    # preserve random state\n",
    "    shuffle(training_data)\n",
    "    \n",
    "    # save trained data for further use\n",
    "    np.save('train_data.npy', training_data)\n",
    "    return training_data\n",
    "\n",
    "\n",
    "# process test data\n",
    "def process_test_data():\n",
    "    testing_data = []\n",
    "    for img in tqdm(os.listdir(TEST_DIR)):\n",
    "        path = os.path.join(TEST_DIR, img)\n",
    "        img_num = img.split('.')[0]\n",
    "        img = cv2.imread(path, cv2.IMREAD_GRAYSCALE)\n",
    "        img = cv2.resize(img, (IMG_SIZE, IMG_SIZE))\n",
    "        testing_data.append([np.array(img), img_num])\n",
    "        \n",
    "    # shuffle test data to\n",
    "    # preserve randomness \n",
    "    shuffle(testing_data)\n",
    "    \n",
    "    # save test data for further use\n",
    "    np.save('test_data.npy', testing_data)\n",
    "    return testing_data\n",
    "    "
   ]
  },
  {
   "cell_type": "markdown",
   "metadata": {
    "id": "ScTrpUW8zOp4"
   },
   "source": [
    "---\n",
    "\n",
    "# 5. **Proposed solution** \n",
    "\n",
    "This is where you should implement most of your code for your solution. Write the routines for training and predicting the models and any necessary intermediate steps. Post-processing functions must also be implemented here.\n",
    "\n",
    "  - Use good programming practices, modularizing and adequately commenting on your code. Code quality will be considered in the final assessment.\n",
    "\n",
    "  - You can use pre-trained models as backbones or any code available on the web as a basis, but they must be correctly credited and referenced both in this notebook and in the final report. Cite the source link repository and explicitly cite the authors of it.\n",
    "If you changed existing code, make it clear what the changes were.\n",
    "Make it clear where your own code starts and where it ends. Note that the originality percentage of the code will be considered in the evaluation, so use external codes wisely and sparingly. **Missconduct alert:** remember that there are many tools that compare existing source code and that it is relatively easy to identify authorship. So, be careful and fair by always properly thanking the authors if you use external code.\n",
    "\n",
    "[top](#scrollTo=4i5afvUbhmGo)"
   ]
  },
  {
   "cell_type": "code",
   "execution_count": null,
   "metadata": {
    "id": "jJs8HpW_zX0M"
   },
   "outputs": [
    {
     "name": "stderr",
     "output_type": "stream",
     "text": [
      "100%|██████████| 32/32 [00:00<00:00, 219.52it/s]\n",
      "C:\\Users\\maria\\anaconda3\\envs\\tf\\lib\\site-packages\\numpy\\lib\\npyio.py:521: VisibleDeprecationWarning: Creating an ndarray from ragged nested sequences (which is a list-or-tuple of lists-or-tuples-or ndarrays with different lengths or shapes) is deprecated. If you meant to do this, you must specify 'dtype=object' when creating the ndarray.\n",
      "  arr = np.asanyarray(arr)\n",
      "100%|██████████| 355/355 [00:01<00:00, 200.58it/s]"
     ]
    },
    {
     "name": "stdout",
     "output_type": "stream",
     "text": [
      "WARNING:tensorflow:From C:\\Users\\maria\\anaconda3\\envs\\tf\\lib\\site-packages\\tflearn\\initializations.py:110: calling UniformUnitScaling.__init__ (from tensorflow.python.ops.init_ops) with dtype is deprecated and will be removed in a future version.\n",
      "Instructions for updating:\n",
      "Call initializer instance with the dtype argument instead of passing it to the constructor\n",
      "WARNING:tensorflow:From C:\\Users\\maria\\anaconda3\\envs\\tf\\lib\\site-packages\\tensorflow\\python\\util\\deprecation.py:561: UniformUnitScaling.__init__ (from tensorflow.python.ops.init_ops) is deprecated and will be removed in a future version.\n",
      "Instructions for updating:\n",
      "Use tf.initializers.variance_scaling instead with distribution=uniform to get equivalent behavior.\n",
      "WARNING:tensorflow:From C:\\Users\\maria\\anaconda3\\envs\\tf\\lib\\site-packages\\tflearn\\initializations.py:164: calling TruncatedNormal.__init__ (from tensorflow.python.ops.init_ops) with dtype is deprecated and will be removed in a future version.\n",
      "Instructions for updating:\n",
      "Call initializer instance with the dtype argument instead of passing it to the constructor\n"
     ]
    },
    {
     "name": "stderr",
     "output_type": "stream",
     "text": [
      "\n"
     ]
    },
    {
     "name": "stdout",
     "output_type": "stream",
     "text": [
      "---------------------------------\n",
      "Run id: treeDetection-0.001-6conv-basic.model\n",
      "Log directory: /tmp/tflearn_logs/\n",
      "INFO:tensorflow:Summary name Accuracy/ (raw) is illegal; using Accuracy/__raw_ instead.\n"
     ]
    },
    {
     "name": "stderr",
     "output_type": "stream",
     "text": [
      "Exception in thread Thread-6 (fill_batch_ids_queue):\n",
      "Traceback (most recent call last):\n",
      "  File \"C:\\Users\\maria\\anaconda3\\envs\\tf\\lib\\threading.py\", line 1016, in _bootstrap_inner\n",
      "    self.run()\n",
      "  File \"C:\\Users\\maria\\anaconda3\\envs\\tf\\lib\\threading.py\", line 953, in run\n",
      "    self._target(*self._args, **self._kwargs)\n",
      "  File \"C:\\Users\\maria\\anaconda3\\envs\\tf\\lib\\site-packages\\tflearn\\data_flow.py\", line 201, in fill_batch_ids_queue\n",
      "    ids = self.next_batch_ids()\n",
      "  File \"C:\\Users\\maria\\anaconda3\\envs\\tf\\lib\\site-packages\\tflearn\\data_flow.py\", line 215, in next_batch_ids\n",
      "    batch_start, batch_end = self.batches[self.batch_index]\n",
      "IndexError: list index out of range\n"
     ]
    },
    {
     "name": "stdout",
     "output_type": "stream",
     "text": [
      "---------------------------------\n",
      "Training samples: 0\n",
      "Validation samples: 0\n",
      "--\n",
      "INFO:tensorflow:C:\\Users\\maria\\Documents\\GitHub\\CSCU9M6-2929300\\treeDetection-0.001-6conv-basic.model is not in all_model_checkpoint_paths. Manually adding it.\n"
     ]
    },
    {
     "ename": "ValueError",
     "evalue": "num must be an integer with 1 <= num <= 16, not 17",
     "output_type": "error",
     "traceback": [
      "\u001b[1;31m---------------------------------------------------------------------------\u001b[0m",
      "\u001b[1;31mValueError\u001b[0m                                Traceback (most recent call last)",
      "Cell \u001b[1;32mIn[3], line 97\u001b[0m\n\u001b[0;32m     93\u001b[0m img_data \u001b[38;5;241m=\u001b[39m data[\u001b[38;5;241m0\u001b[39m]\n\u001b[0;32m     95\u001b[0m \u001b[38;5;66;03m# display image gride for visualisation\u001b[39;00m\n\u001b[0;32m     96\u001b[0m \u001b[38;5;66;03m# +1 indicates that subplot index starts at 1, not 0\u001b[39;00m\n\u001b[1;32m---> 97\u001b[0m y \u001b[38;5;241m=\u001b[39m \u001b[43mfig\u001b[49m\u001b[38;5;241;43m.\u001b[39;49m\u001b[43madd_subplot\u001b[49m\u001b[43m(\u001b[49m\u001b[38;5;241;43m4\u001b[39;49m\u001b[43m,\u001b[49m\u001b[43m \u001b[49m\u001b[38;5;241;43m4\u001b[39;49m\u001b[43m,\u001b[49m\u001b[43m \u001b[49m\u001b[43mnum\u001b[49m\u001b[43m \u001b[49m\u001b[38;5;241;43m+\u001b[39;49m\u001b[43m \u001b[49m\u001b[38;5;241;43m1\u001b[39;49m\u001b[43m)\u001b[49m\n\u001b[0;32m     98\u001b[0m \u001b[38;5;66;03m# assign current image data to a new variable\u001b[39;00m\n\u001b[0;32m     99\u001b[0m orig \u001b[38;5;241m=\u001b[39m img_data\n",
      "File \u001b[1;32m~\\anaconda3\\envs\\tf\\lib\\site-packages\\matplotlib\\figure.py:757\u001b[0m, in \u001b[0;36mFigureBase.add_subplot\u001b[1;34m(self, *args, **kwargs)\u001b[0m\n\u001b[0;32m    754\u001b[0m         args \u001b[38;5;241m=\u001b[39m \u001b[38;5;28mtuple\u001b[39m(\u001b[38;5;28mmap\u001b[39m(\u001b[38;5;28mint\u001b[39m, \u001b[38;5;28mstr\u001b[39m(args[\u001b[38;5;241m0\u001b[39m])))\n\u001b[0;32m    755\u001b[0m     projection_class, pkw \u001b[38;5;241m=\u001b[39m \u001b[38;5;28mself\u001b[39m\u001b[38;5;241m.\u001b[39m_process_projection_requirements(\n\u001b[0;32m    756\u001b[0m         \u001b[38;5;241m*\u001b[39margs, \u001b[38;5;241m*\u001b[39m\u001b[38;5;241m*\u001b[39mkwargs)\n\u001b[1;32m--> 757\u001b[0m     ax \u001b[38;5;241m=\u001b[39m projection_class(\u001b[38;5;28mself\u001b[39m, \u001b[38;5;241m*\u001b[39margs, \u001b[38;5;241m*\u001b[39m\u001b[38;5;241m*\u001b[39mpkw)\n\u001b[0;32m    758\u001b[0m     key \u001b[38;5;241m=\u001b[39m (projection_class, pkw)\n\u001b[0;32m    759\u001b[0m \u001b[38;5;28;01mreturn\u001b[39;00m \u001b[38;5;28mself\u001b[39m\u001b[38;5;241m.\u001b[39m_add_axes_internal(ax, key)\n",
      "File \u001b[1;32m~\\anaconda3\\envs\\tf\\lib\\site-packages\\matplotlib\\axes\\_base.py:644\u001b[0m, in \u001b[0;36m_AxesBase.__init__\u001b[1;34m(self, fig, facecolor, frameon, sharex, sharey, label, xscale, yscale, box_aspect, *args, **kwargs)\u001b[0m\n\u001b[0;32m    642\u001b[0m \u001b[38;5;28;01melse\u001b[39;00m:\n\u001b[0;32m    643\u001b[0m     \u001b[38;5;28mself\u001b[39m\u001b[38;5;241m.\u001b[39m_position \u001b[38;5;241m=\u001b[39m \u001b[38;5;28mself\u001b[39m\u001b[38;5;241m.\u001b[39m_originalPosition \u001b[38;5;241m=\u001b[39m mtransforms\u001b[38;5;241m.\u001b[39mBbox\u001b[38;5;241m.\u001b[39munit()\n\u001b[1;32m--> 644\u001b[0m     subplotspec \u001b[38;5;241m=\u001b[39m \u001b[43mSubplotSpec\u001b[49m\u001b[38;5;241;43m.\u001b[39;49m\u001b[43m_from_subplot_args\u001b[49m\u001b[43m(\u001b[49m\u001b[43mfig\u001b[49m\u001b[43m,\u001b[49m\u001b[43m \u001b[49m\u001b[43margs\u001b[49m\u001b[43m)\u001b[49m\n\u001b[0;32m    645\u001b[0m \u001b[38;5;28;01mif\u001b[39;00m \u001b[38;5;28mself\u001b[39m\u001b[38;5;241m.\u001b[39m_position\u001b[38;5;241m.\u001b[39mwidth \u001b[38;5;241m<\u001b[39m \u001b[38;5;241m0\u001b[39m \u001b[38;5;129;01mor\u001b[39;00m \u001b[38;5;28mself\u001b[39m\u001b[38;5;241m.\u001b[39m_position\u001b[38;5;241m.\u001b[39mheight \u001b[38;5;241m<\u001b[39m \u001b[38;5;241m0\u001b[39m:\n\u001b[0;32m    646\u001b[0m     \u001b[38;5;28;01mraise\u001b[39;00m \u001b[38;5;167;01mValueError\u001b[39;00m(\u001b[38;5;124m'\u001b[39m\u001b[38;5;124mWidth and height specified must be non-negative\u001b[39m\u001b[38;5;124m'\u001b[39m)\n",
      "File \u001b[1;32m~\\anaconda3\\envs\\tf\\lib\\site-packages\\matplotlib\\gridspec.py:598\u001b[0m, in \u001b[0;36mSubplotSpec._from_subplot_args\u001b[1;34m(figure, args)\u001b[0m\n\u001b[0;32m    596\u001b[0m \u001b[38;5;28;01melse\u001b[39;00m:\n\u001b[0;32m    597\u001b[0m     \u001b[38;5;28;01mif\u001b[39;00m \u001b[38;5;129;01mnot\u001b[39;00m \u001b[38;5;28misinstance\u001b[39m(num, Integral) \u001b[38;5;129;01mor\u001b[39;00m num \u001b[38;5;241m<\u001b[39m \u001b[38;5;241m1\u001b[39m \u001b[38;5;129;01mor\u001b[39;00m num \u001b[38;5;241m>\u001b[39m rows\u001b[38;5;241m*\u001b[39mcols:\n\u001b[1;32m--> 598\u001b[0m         \u001b[38;5;28;01mraise\u001b[39;00m \u001b[38;5;167;01mValueError\u001b[39;00m(\n\u001b[0;32m    599\u001b[0m             \u001b[38;5;124mf\u001b[39m\u001b[38;5;124m\"\u001b[39m\u001b[38;5;124mnum must be an integer with 1 <= num <= \u001b[39m\u001b[38;5;132;01m{\u001b[39;00mrows\u001b[38;5;241m*\u001b[39mcols\u001b[38;5;132;01m}\u001b[39;00m\u001b[38;5;124m, \u001b[39m\u001b[38;5;124m\"\u001b[39m\n\u001b[0;32m    600\u001b[0m             \u001b[38;5;124mf\u001b[39m\u001b[38;5;124m\"\u001b[39m\u001b[38;5;124mnot \u001b[39m\u001b[38;5;132;01m{\u001b[39;00mnum\u001b[38;5;132;01m!r}\u001b[39;00m\u001b[38;5;124m\"\u001b[39m\n\u001b[0;32m    601\u001b[0m         )\n\u001b[0;32m    602\u001b[0m     i \u001b[38;5;241m=\u001b[39m j \u001b[38;5;241m=\u001b[39m num\n\u001b[0;32m    603\u001b[0m \u001b[38;5;28;01mreturn\u001b[39;00m gs[i\u001b[38;5;241m-\u001b[39m\u001b[38;5;241m1\u001b[39m:j]\n",
      "\u001b[1;31mValueError\u001b[0m: num must be an integer with 1 <= num <= 16, not 17"
     ]
    }
   ],
   "source": [
    "# based on code from Subhajit Saha on:\n",
    "# https://www.geeksforgeeks.org/image-classifier-using-cnn/\n",
    "\n",
    "\n",
    "# run train and test data \n",
    "train_data = create_train_data()  # loads from train_data.npy\n",
    "test_data = process_test_data()   # loads from test_data.npy\n",
    "\n",
    "\n",
    "# use tensorflow to create neural network\n",
    "\n",
    "# clear and reset default graph\n",
    "tf.compat.v1.reset_default_graph()\n",
    "\n",
    "# define input layer\n",
    "convnet = tflearn.input_data(shape=[None, IMG_SIZE, IMG_SIZE, 1], \n",
    "                         name='input')\n",
    "\n",
    "# define 1st convolutional layer\n",
    "convnet = tflearn.conv_2d(convnet, 32, 3, activation='relu')\n",
    "\n",
    "# define 2nd convolutional layer\n",
    "convnet = tflearn.conv_2d(convnet, 64, 3, activation='relu')\n",
    "\n",
    "# define pooling layer \n",
    "convnet = tflearn.max_pool_2d(convnet, 2)\n",
    "\n",
    "# define fully connected layer\n",
    "convnet = tflearn.fully_connected(convnet, 1024, activation='relu')\n",
    "\n",
    "# create CNN output layer with 2 neurons\n",
    "# use softmax activation funtion for multi-class classification\n",
    "convnet = tflearn.fully_connected(convnet, 2, activation='softmax')\n",
    "\n",
    "# define loss function (cat. cross entropy),\n",
    "# the optimizer (Adam),\n",
    "# learning rate (0.001),\n",
    "# and output layer name (targets)\n",
    "convnet = tflearn.regression(convnet, optimizer='adam', \n",
    "                             learning_rate=0.001, \n",
    "                             loss='categorical_crossentropy',\n",
    "                             name ='targets')\n",
    "\n",
    "# create tf DNN (Deep Neural Network) with specified architecture\n",
    "# write training info to log directory to\n",
    "# visualise with TensorBoard\n",
    "model = tflearn.DNN(convnet, tensorboard_verbose=0)\n",
    "\n",
    "\n",
    "# split test and train data\n",
    "train = train_data[:-500]\n",
    "test = test_data[-500:]\n",
    "\n",
    "\n",
    "# set up X-Features and Y-Labels\n",
    "# X is the input data used to train the model\n",
    "# Y is the expected output for each input\n",
    "# -1 in reshape function means that size of a dimension is\n",
    "# automatically calculated based on size of other dimensions\n",
    "# and lenght of input data\n",
    "X = np.array([i[0] for i in train]). reshape(-1, IMG_SIZE, IMG_SIZE, 1)\n",
    "Y = [i[1] for i in train]\n",
    "test_x = np.array([i[0] for i in train]). reshape(-1, IMG_SIZE, IMG_SIZE, 1)\n",
    "test_y = [i[1] for i in test]\n",
    "\n",
    "\n",
    "# fit data in model\n",
    "model.fit({'input':X}, {'targets':Y}, n_epoch = 5,\n",
    "         validation_set = ({'input': test_x}, {'targets': test_y}),\n",
    "         snapshot_step = 500, show_metric = True, run_id = MODEL_ONE)\n",
    "model.save(MODEL_ONE)\n",
    "\n",
    "\n",
    "# test data,\n",
    "# use the previously saved test_data.npy,\n",
    "# make picke True (its default is False) because otherwise \n",
    "# it wont allow loading of object arrays\n",
    "test_data = np.load('test_data.npy', allow_pickle=True)\n",
    "\n",
    "# create container for graph elements\n",
    "fig = plt.figure()\n",
    "\n",
    "\n",
    "# iterate over the first 20 elements of test_data,\n",
    "# assign a unique number and data element to variables 'num' and 'data'\n",
    "# on each iteration\n",
    "for num, data in enumerate(test_data[:20]):\n",
    "    \n",
    "    # belongs to City A->[1, 0]\n",
    "    # belongs to City B->[0, 1]\n",
    "    \n",
    "    img_num = data[1]\n",
    "    img_data = data[0]\n",
    "    \n",
    "    # display image gride for visualisation\n",
    "    # +1 indicates that subplot index starts at 1, not 0\n",
    "    y = fig.add_subplot(4, 4, num + 1)\n",
    "    # assign current image data to a new variable\n",
    "    orig = img_data\n",
    "    # reshape data into 3D numpy array \n",
    "    data = img_data.reshape(IMG_SIZE, IMG_SIZE, 1)\n",
    "    \n",
    "    # train model to generate a prediction for a \n",
    "    # single input data point\n",
    "    model_out = model.predict([data])[0]\n",
    "    \n",
    "    # use model output to predict the class of input data,\n",
    "    # if tree belongs to City A or City B\n",
    "    \n",
    "    if np.argmax(model_out) == 1 : str_label = 'City B'\n",
    "    else : str_label = 'City A'\n",
    "            \n",
    "    # display original image data in grayscale\n",
    "    y.imshow(orig, cmap = 'gray')\n",
    "    # set subplot title to predicted label\n",
    "    plt.title(str_label)\n",
    "    # remove x-and-y-axis labels from subplot to improve visuals\n",
    "    y.axes.get_xaxis().set_visible(False)\n",
    "    y.axes.get_yaxis().set_visible(False)\n",
    "#display all graphs\n",
    "plt.show()"
   ]
  },
  {
   "cell_type": "markdown",
   "metadata": {
    "id": "3RBW58of0ZDo"
   },
   "source": [
    "---\n",
    "\n",
    "# 6. **Experimental tests and evaluations** \n",
    "\n",
    "\n",
    "Here you must implement your code for training, testing and evaluating your solution. For this, the following code blocks (*E1*, *E2*, and *E3*) are mandatory:\n",
    "\n",
    "  - *E1* - Training the models. Implement code to call the dataloaders implemented for training your models.  Make routines to test different parameters of your models. Plot graphs that illustrate how parameters impact model training. Compare. Train and select a model for each city (A and B) and justify. You should use half (50%) of the samples from each dataset for training and leave the other half for testing (50%). \n",
    "\n",
    "[top](#scrollTo=4i5afvUbhmGo)"
   ]
  },
  {
   "cell_type": "code",
   "execution_count": null,
   "metadata": {
    "id": "jHWwdXg32BEl"
   },
   "outputs": [],
   "source": [
    "# Write your codes for E1 here. Create more code cells if needed\n",
    "\n",
    "\n",
    "\n"
   ]
  },
  {
   "cell_type": "markdown",
   "metadata": {
    "id": "TunTimEv1szf"
   },
   "source": [
    "  - *E2* - Testing the models in the dataset. You must implement code routines to test the predictive ability of your models using half of each dataset intended for testing. **The model trained in city A must be tested in city A. The model trained in city B must be tested in city B.** Use the evaluation metrics (accuracy, F1-score, AUC, etc) that are most appropriate for your problem. Plot graphs that illustrate the results obtained for each city (A and B). Plot visual examples of correctly (true positive) and incorrectly (false positive) classified samples. \n",
    "\n",
    "[top](#scrollTo=4i5afvUbhmGo)\n"
   ]
  },
  {
   "cell_type": "code",
   "execution_count": null,
   "metadata": {
    "id": "_s6ygCpi2CO8"
   },
   "outputs": [],
   "source": [
    "# Write your codes for E2 here. Create more code cells if needed\n",
    "\n",
    "\n",
    "\n"
   ]
  },
  {
   "cell_type": "markdown",
   "metadata": {
    "id": "bZ0zVXjQ1x0_"
   },
   "source": [
    "  - *E3* - Testing the models crossing datasets. Here you must do exactly the same as in *E2*, but now training in one city and testing in the other. **The model trained in city A must be tested in city B. The model trained in city B must be tested in city A.** Use the same metrics and plot the same types of graphs so that results are comparable.\n",
    "\n",
    "[top](scrollTo=4i5afvUbhmGo)"
   ]
  },
  {
   "cell_type": "code",
   "execution_count": null,
   "metadata": {
    "id": "Cotguzxyo3Sa"
   },
   "outputs": [],
   "source": [
    "# Write your codes for E3 here. Create more code cells if needed\n",
    "\n",
    "\n",
    "\n"
   ]
  },
  {
   "cell_type": "markdown",
   "metadata": {
    "id": "ws14iV4Dp_vf"
   },
   "source": [
    "---\n",
    "\n",
    "# 7. **Quiz and Report**\n",
    "\n",
    "Answer the assessment quiz that will be made available on Canvas one week before the final deadline. Make a 2-page report using the [IEEE template](https://www.overleaf.com/read/rdqwshtvyjdn) with a maximum of 1000 words. Latex is recommended, but you can deliver the report in MS Word if you prefer. Your report should contain five sections: introduction, description of the proposed solution with justifications, results (here you can include the same graphs and pictures generated in this jupyter notebook), discussion of the results, and conclusion. Properly cite references to articles, tutorials, and sources used. A pdf version of your report should be made available in the project's github repository under the name \"[project name] + _final_report.pdf\".\n",
    "\n",
    "\n",
    "[top](#scrollTo=4i5afvUbhmGo)"
   ]
  }
 ],
 "metadata": {
  "colab": {
   "provenance": []
  },
  "kernelspec": {
   "display_name": "Python 3 (ipykernel)",
   "language": "python",
   "name": "python3"
  },
  "language_info": {
   "codemirror_mode": {
    "name": "ipython",
    "version": 3
   },
   "file_extension": ".py",
   "mimetype": "text/x-python",
   "name": "python",
   "nbconvert_exporter": "python",
   "pygments_lexer": "ipython3",
   "version": "3.10.10"
  }
 },
 "nbformat": 4,
 "nbformat_minor": 1
}
