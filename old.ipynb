{
 "cells": [
  {
   "cell_type": "markdown",
   "metadata": {
    "id": "4i5afvUbhmGo"
   },
   "source": [
    "---\n",
    "\n",
    "#University of Stirling - Spring 2023\n",
    "\n",
    "## CSCU9M6 - Natural Language Processing and Computer Vision (2022/3)\n",
    "\n",
    "---"
   ]
  },
  {
   "cell_type": "markdown",
   "metadata": {
    "id": "cJZF464wk6Xh"
   },
   "source": [
    "# Assignment Summary\n",
    "\n",
    "In this activity, you are required to apply the knowledge acquired in this module through the design and development of a complete project for image classification in an application to be defined by yourself. For this, you will need to perform the following **mandatory** steps:\n",
    "\n",
    "1. [Problem definition](#scrollTo=hglJVRRslqMn)\n",
    "2. [GitHub repository](#scrollTo=ecxDhkV9qmUf)\n",
    "3. [Dataset](#scrollTo=qEgFzxmWrGA9)\n",
    "4. [Dataloader](#scrollTo=EDd6lLwlx4un)\n",
    "5. [Proposed solution](#scrollTo=ScTrpUW8zOp4)\n",
    "6. [Experimental tests and evaluations](#scrollTo=3RBW58of0ZDo)\n",
    "7. [Quiz and Report](#scrollTo=ws14iV4Dp_vf)\n",
    "\n",
    "**Deadlines** and other details can be seen on Canvas [\\[link\\]](https://canvas.stir.ac.uk/courses/12587/assignments/102373)."
   ]
  },
  {
   "cell_type": "markdown",
   "metadata": {
    "id": "hglJVRRslqMn"
   },
   "source": [
    "---\n",
    "\n",
    "# 1. **Problem definition** \n",
    "\n",
    "\n",
    "In this assignment, you are required to apply the knowledge acquired in the module to solve a classification problem from images collected in the context of two different cities (A and B).\n",
    " - If the work is being carried out in pairs, **cities A and B must be the hometowns of each student**. In the case of individual work, city A must be your hometown and city B must be Stirling (or Edinburgh, if needed).\n",
    " - The standard recommendation is that the project focuses on classifying cars or trees image scenes, which are easier to identify and annotate. Other objects or phenomena can be adopted, but are subject to prior approval by the module instructor (Jefersson A. dos Santos). **You are not allowed to assemble datasets containing people. Other sensitive patterns, such as license plates, must be properly hidden.**\n",
    " - Don't panic! We are aware that acquiring images _in situ_ is an impediment for most students. The dataset can be assembled with images collected remotely or from public repositories. Just be careful with rights and permissions for using images found on the internet. Anyway, these factors must be taken into account for the problem definition.\n",
    " - While we encourage you to do interesting and engaging work, it shouldn't be too complex or time-consuming. Try to appropriately scale the time required for this step. Ask the instructors for advice, if necessary. **GA students:** you are encouraged to link the project with your work activities, but keep in mind you still need to construct two datasets (A and B). \n",
    "\n",
    "[top](#scrollTo=4i5afvUbhmGo)\n",
    " "
   ]
  },
  {
   "cell_type": "markdown",
   "metadata": {
    "id": "ecxDhkV9qmUf"
   },
   "source": [
    "---\n",
    "# 2. **GitHub repository**\n",
    "\n",
    "Give your project a name, create a private [GitHub repository](https://github.com/) with the name [Module Code] + [Project Name] and give access to the module instructors. Create a cover page with a description of your project. This empty notebook must be uploaded in the repository as well as the created dataset. The deadline to perform this task will be 10 days after the publication of this notebook. \n",
    "This notebook should be updated and committed to the repository according to the deadlines.\n",
    "The repository's update history will be used as a criterion for monitoring and evaluating the work.\n",
    "**Check the videos provided in the extra section on Canvas for more details on how to create your GitHub repository** [\\[link\\]](https://canvas.stir.ac.uk/courses/12587/pages/extra-session-cnn-hyperparameters-and-github).\n",
    "\n",
    "[top](#scrollTo=4i5afvUbhmGo)"
   ]
  },
  {
   "cell_type": "markdown",
   "metadata": {
    "id": "qEgFzxmWrGA9"
   },
   "source": [
    "---\n",
    "# 3. **Dataset creation**\n",
    "\n",
    "You must collect a minimum of **200 positive samples** from the study objects for each city (A and B). \n",
    "Note that, depending on the task being solved, it will also be necessary to collect more samples - negative ones, for instance.\n",
    "\n",
    "Your dataset can be assembled from one or more of the following ways:\n",
    "\n",
    "  - *M1* - Pictures taken by yourself on site (street view from cities A and B), with attention to anonymization issues (if it is the case). It is not allowed to assemble datasets containing people. Other sensitive patterns, such as license plates, must be properly hidden.\n",
    "\n",
    "  - *M2* - Aerial satellite/drone images obtained from GIS and remote sensing platforms or public repositories. Be careful with unusual file formats that may be challenging to manipulate using basic image processing libraries. We recommend keeping or converting the images to jpg or png.\n",
    "\n",
    "  - *M3* - Pictures taken from other public available datasets. Remember you are not allowed to use datasets containing people or other sensitive patterns/objects.\n",
    "\n",
    "  - *M4* - Images crawled from the internet as a whole (social networks, webpages, etc), with special attention to use and copyrights.\n",
    "\n",
    "  - *M5* - Textual and metadata you may need in your project, with special attention to use and copyrights (as always!).\n",
    "\n",
    "**Important:** If you collect the images on your own or from aerial imagery repositories, it will be necessary to keep the geographic coordinates. If you collect from specific websites, please retain the source links. This information should be placed in a .csv file and made available along with the final dataset.\n",
    "\n",
    "[top](#scrollTo=4i5afvUbhmGo)"
   ]
  },
  {
   "cell_type": "markdown",
   "metadata": {
    "id": "EDd6lLwlx4un"
   },
   "source": [
    "---\n",
    "\n",
    "# 4. **Dataloader**\n",
    "\n",
    "Here you are required to implement all the code related to pre-processing, cleaning, de-noising and preparing the input images and metadata according to the necessary data structures as input to your pattern recognition module. We recommend using [PyTorch](https://pytorch.org/tutorials/beginner/basics/data_tutorial.html) or [Tensorflow (with Keras)](https://keras.io/getting_started/intro_to_keras_for_engineers/) as a base, but you are free to use any library or platform as long as it is well justified in the [final report](#scrollTo=ws14iV4Dp_vf).\n",
    "\n",
    "[top](scrollTo=4i5afvUbhmGo)"
   ]
  },
  {
   "cell_type": "code",
   "execution_count": null,
   "metadata": {},
   "outputs": [],
   "source": [
    "# import necessary libraries\n",
    "\n",
    "import tensorflow as tf\n",
    "from tensorflow.keras.preprocessing.image import ImageDataGenerator\n",
    "from tensorflow.keras.layers import Dense, Flatten, Conv2D, MaxPooling2D\n",
    "from tensorflow.keras.models import Sequential\n",
    "from tensorflow.keras.applications import VGG16\n",
    "\n",
    "import keras\n",
    "import keras.utils\n",
    "from keras.utils import to_categorical\n",
    "\n",
    "from sklearn.model_selection import train_test_split\n",
    "import matplotlib.pyplot as plt\n",
    "import numpy as np\n",
    "import os\n",
    "from PIL import Image\n",
    "import time"
   ]
  },
  {
   "cell_type": "code",
   "execution_count": null,
   "metadata": {
    "id": "RaPd82NmyNCK"
   },
   "outputs": [],
   "source": [
    "# Set image size\n",
    "img_size = (224, 224)\n",
    "\n",
    "# Set batch size\n",
    "batch_size = 32\n",
    "\n",
    "# Define image data generator\n",
    "datagen = tf.keras.preprocessing.image.ImageDataGenerator(\n",
    "    rescale=1./255,\n",
    "    shear_range=0.2,\n",
    "    zoom_range=0.2,\n",
    "    horizontal_flip=True)\n",
    "\n",
    "# Define the paths to the image files and the labels\n",
    "image_dir = 'C:/Users/maria/Documents/GitHub/CSCU9M6-2929300/MixDataset/train'\n",
    "imageA_dir = 'C:/Users/maria/Documents/GitHub/CSCU9M6-2929300/Dataset/Atrain'\n",
    "imageB_dir = 'C:/Users/maria/Documents/GitHub/CSCU9M6-2929300/Dataset/Btrain'\n",
    "label_file = 'C:/Users/maria/Documents/GitHub/CSCU9M6-2929300/'\n",
    "\n",
    "\n",
    "# Define the labels\n",
    "labels = ['ara', 'ban', 'che', 'pal', 'pla', 'art', 'ced', \n",
    "          'ash', 'syc', 'oak', 'app', 'pin', 'bee', 'bct', 'not']\n",
    "\n",
    "def load_and_resize(filename, label):\n",
    "    # Load the image\n",
    "    image = tf.io.read_file(filename)\n",
    "    # Decode the image\n",
    "    image = tf.image.decode_jpeg(image, channels=3)\n",
    "    # Resize the image\n",
    "    image = tf.image.resize(image, [img_size[0], img_size[1]])\n",
    "    # Rescale the pixel values\n",
    "    image = image / 255.0\n",
    "    # Return the image and label\n",
    "    return image, label\n",
    "\n",
    "def create_dataset(filenames, labels, batch_size):\n",
    "    # Create TensorFlow dataset\n",
    "    dataset = tf.data.Dataset.from_tensor_slices((filenames, labels))\n",
    "    # Shuffle the dataset\n",
    "    dataset = dataset.shuffle(buffer_size=len(filenames), reshuffle_each_iteration=False)\n",
    "    # Load and preprocess the images and labels in parallel\n",
    "    dataset = dataset.map(\n",
    "        map_func=load_and_resize,\n",
    "        num_parallel_calls=tf.data.experimental.AUTOTUNE)\n",
    "    # Batch the dataset\n",
    "    dataset = dataset.batch(batch_size)\n",
    "    # Prefetch the dataset\n",
    "    dataset = dataset.prefetch(tf.data.experimental.AUTOTUNE)\n",
    "    # Return the dataset\n",
    "    return dataset\n",
    "\n",
    "# Create a function to load and preprocess the image and its label\n",
    "def load_and_preprocess_image(filename, label):\n",
    "    # Load the image\n",
    "    image_string = tf.io.read_file(filename)\n",
    "    # Decode the image\n",
    "    image_decoded = tf.image.decode_jpeg(image_string, channels=3)\n",
    "    # Preprocess the image\n",
    "    image, label = preprocess_image(image_decoded, label)\n",
    "    # Return the image and its label\n",
    "    return image, label\n",
    "\n",
    "# Load the labels from the file\n",
    "with open(os.path.join(label_file, 'imageData.txt')) as f:\n",
    "    lines = f.readlines()\n",
    "    label_dict = {}\n",
    "    for line in lines:\n",
    "        filename, label, _ = line.strip().split('.', maxsplit=2) # added maxsplit to prevent an error i was\n",
    "        if label in labels:                                      # getting due to the way I named my files\n",
    "               label_dict[os.path.join(image_dir, filename)] = labels.index(label)\n",
    "        \n",
    "# Get the filenames and label\n",
    "filenames = []\n",
    "labels = []\n",
    "\n",
    "# Loop through each folder in the directory\n",
    "for class_name in os.listdir(image_dir):\n",
    "    class_dir = os.path.join(image_dir, class_name)\n",
    "    for filename in os.listdir(class_dir):\n",
    "        filepath = os.path.join(class_dir, filename)\n",
    "        filenames.append(filepath)\n",
    "        labels.append(class_name)\n",
    "        \n",
    "# Create a train-validation split\n",
    "train_filenames, test_filenames, train_labels, test_labels = train_test_split(\n",
    "    filenames, labels, test_size=0.2, random_state=42)\n",
    "\n",
    "Atrain_filenames, Atest_filenames, Atrain_labels, Atest_labels = train_test_split(\n",
    "    filenames, labels, test_size=0.2, random_state=42)\n",
    "\n",
    "Btrain_filenames, Btest_filenames, Btrain_labels, Btest_labels = train_test_split(\n",
    "    filenames, labels, test_size=0.2, random_state=42)\n",
    "\n",
    "# Define data directories\n",
    "train_dir = 'C:/Users/maria/Documents/GitHub/CSCU9M6-2929300/MixDataset/train'\n",
    "Atrain_dir = 'C:/Users/maria/Documents/GitHub/CSCU9M6-2929300/Dataset/Atrain'\n",
    "Btrain_dir = 'C:/Users/maria/Documents/GitHub/CSCU9M6-2929300/Dataset/Btrain'\n",
    "test_dir = 'C:/Users/maria/Documents/GitHub/CSCU9M6-2929300/MixDataset/test'\n",
    "Atest_dir = 'C:/Users/maria/Documents/GitHub/CSCU9M6-2929300/Dataset/Atest'\n",
    "Btest_dir = 'C:/Users/maria/Documents/GitHub/CSCU9M6-2929300/Dataset/Btest'\n",
    "val_dir = 'C:/Users/maria/Documents/GitHub/CSCU9M6-2929300/MixDataset/val'\n",
    "Aval_dir = 'C:/Users/maria/Documents/GitHub/CSCU9M6-2929300/Dataset/Aval'\n",
    "Bval_dir = 'C:/Users/maria/Documents/GitHub/CSCU9M6-2929300/Dataset/Bval'\n",
    "\n",
    "# Create TensorFlow dataset\n",
    "dataset = create_dataset(filenames, labels, batch_size)\n",
    "\n",
    "# Print the shape of the dataset\n",
    "print(dataset.element_spec)"
   ]
  },
  {
   "cell_type": "markdown",
   "metadata": {
    "id": "ScTrpUW8zOp4"
   },
   "source": [
    "---\n",
    "\n",
    "# 5. **Proposed solution** \n",
    "\n",
    "This is where you should implement most of your code for your solution. Write the routines for training and predicting the models and any necessary intermediate steps. Post-processing functions must also be implemented here.\n",
    "\n",
    "  - Use good programming practices, modularizing and adequately commenting on your code. Code quality will be considered in the final assessment.\n",
    "\n",
    "  - You can use pre-trained models as backbones or any code available on the web as a basis, but they must be correctly credited and referenced both in this notebook and in the final report. Cite the source link repository and explicitly cite the authors of it.\n",
    "If you changed existing code, make it clear what the changes were.\n",
    "Make it clear where your own code starts and where it ends. Note that the originality percentage of the code will be considered in the evaluation, so use external codes wisely and sparingly. **Missconduct alert:** remember that there are many tools that compare existing source code and that it is relatively easy to identify authorship. So, be careful and fair by always properly thanking the authors if you use external code.\n",
    "\n",
    "[top](#scrollTo=4i5afvUbhmGo)"
   ]
  },
  {
   "cell_type": "code",
   "execution_count": null,
   "metadata": {
    "id": "jJs8HpW_zX0M"
   },
   "outputs": [],
   "source": [
    "img_size = (224, 224)\n",
    "\n",
    "# Load and preprocess the training and testing datasets\n",
    "train_dataset = create_dataset(train_filenames, train_labels, batch_size)\n",
    "Atrain_dataset = create_dataset(Atrain_filenames, Atrain_labels, batch_size)\n",
    "Btrain_dataset = create_dataset(Btrain_filenames, Btrain_labels, batch_size)\n",
    "\n",
    "test_dataset = create_dataset(test_filenames, test_labels, batch_size)\n",
    "Atest_dataset = create_dataset(Atest_filenames, Atest_labels, batch_size)\n",
    "Btest_dataset = create_dataset(Btest_filenames, Btest_labels, batch_size)\n",
    "\n",
    "# Define image data generator\n",
    "datagen = tf.keras.preprocessing.image.ImageDataGenerator(\n",
    "    rescale=1./255,\n",
    "    shear_range=0.2,\n",
    "    zoom_range=0.2,\n",
    "    horizontal_flip=True)\n",
    "\n",
    "test_datagen = ImageDataGenerator(rescale=1./255)\n",
    "\n",
    "val_datagen = ImageDataGenerator(rescale=1./255)\n",
    "\n",
    "train_generator = datagen.flow_from_directory(\n",
    "    train_dir,\n",
    "    target_size=(224, 224),\n",
    "    batch_size=batch_size,\n",
    "    class_mode='categorical')\n",
    "\n",
    "test_generator = test_datagen.flow_from_directory(\n",
    "    test_dir,\n",
    "    target_size=(224, 224),\n",
    "    batch_size=batch_size,\n",
    "    class_mode='categorical')\n",
    "\n",
    "val_generator = val_datagen.flow_from_directory(\n",
    "    val_dir,\n",
    "    target_size=(244, 244),\n",
    "    batch_size=batch_size,\n",
    "    class_mode='categorical')\n",
    "\n",
    "# create model using VGG16 architecture\n",
    "def create_model():\n",
    "    vgg16_model = tf.keras.applications.VGG16(input_shape=(IMG_SIZE, IMG_SIZE, 3), include_top=False, weights='imagenet')\n",
    "    for layer in vgg16_model.layers:\n",
    "        layer.trainable = False\n",
    "        \n",
    "    model = keras.models.Sequential([\n",
    "        keras.applications.VGG16(include_top=False, weights='imagenet', input_shape=(img_size[0]*2, img_size[1]*2, 3)),\n",
    "        keras.layers.Flatten(),\n",
    "        keras.layers.Dense(256, activation='relu'),\n",
    "        keras.layers.Dropout(0.5),\n",
    "        keras.layers.Dense(15, activation='softmax')])\n",
    "    return model\n",
    "\n",
    "# Define the model\n",
    "input_shape = img_size + (3,)\n",
    "model = keras.models.Sequential([\n",
    "    keras.applications.VGG16(include_top=False, weights='imagenet', input_shape=input_shape),\n",
    "    keras.layers.Flatten(),\n",
    "    keras.layers.Dense(256, activation='relu'),\n",
    "    keras.layers.Dropout(0.5),\n",
    "    keras.layers.Dense(15, activation='softmax')\n",
    "])\n",
    "\n",
    "# Compile the model\n",
    "model.compile(optimizer='adam', loss='categorical_crossentropy', metrics=['accuracy'])\n",
    "\n",
    "# Train the model\n",
    "model.fit(train_generator, epochs=10, validation_data=val_generator)\n",
    "\n",
    "# Evaluate the model\n",
    "test_loss, test_acc = model.evaluate(test_generator)"
   ]
  },
  {
   "cell_type": "markdown",
   "metadata": {
    "id": "3RBW58of0ZDo"
   },
   "source": [
    "---\n",
    "\n",
    "# 6. **Experimental tests and evaluations** \n",
    "\n",
    "\n",
    "Here you must implement your code for training, testing and evaluating your solution. For this, the following code blocks (*E1*, *E2*, and *E3*) are mandatory:\n",
    "\n",
    "  - *E1* - Training the models. Implement code to call the dataloaders implemented for training your models.  Make routines to test different parameters of your models. Plot graphs that illustrate how parameters impact model training. Compare. Train and select a model for each city (A and B) and justify. You should use half (50%) of the samples from each dataset for training and leave the other half for testing (50%). \n",
    "\n",
    "[top](#scrollTo=4i5afvUbhmGo)"
   ]
  },
  {
   "cell_type": "code",
   "execution_count": null,
   "metadata": {
    "id": "jHWwdXg32BEl"
   },
   "outputs": [],
   "source": [
    "# Write your codes for E1 here. Create more code cells if needed\n",
    "\n",
    "\n",
    "\n"
   ]
  },
  {
   "cell_type": "markdown",
   "metadata": {
    "id": "TunTimEv1szf"
   },
   "source": [
    "  - *E2* - Testing the models in the dataset. You must implement code routines to test the predictive ability of your models using half of each dataset intended for testing. **The model trained in city A must be tested in city A. The model trained in city B must be tested in city B.** Use the evaluation metrics (accuracy, F1-score, AUC, etc) that are most appropriate for your problem. Plot graphs that illustrate the results obtained for each city (A and B). Plot visual examples of correctly (true positive) and incorrectly (false positive) classified samples. \n",
    "\n",
    "[top](#scrollTo=4i5afvUbhmGo)\n"
   ]
  },
  {
   "cell_type": "code",
   "execution_count": null,
   "metadata": {
    "id": "_s6ygCpi2CO8"
   },
   "outputs": [],
   "source": [
    "# Write your codes for E2 here. Create more code cells if needed\n",
    "\n",
    "\n",
    "\n"
   ]
  },
  {
   "cell_type": "markdown",
   "metadata": {
    "id": "bZ0zVXjQ1x0_"
   },
   "source": [
    "  - *E3* - Testing the models crossing datasets. Here you must do exactly the same as in *E2*, but now training in one city and testing in the other. **The model trained in city A must be tested in city B. The model trained in city B must be tested in city A.** Use the same metrics and plot the same types of graphs so that results are comparable.\n",
    "\n",
    "[top](scrollTo=4i5afvUbhmGo)"
   ]
  },
  {
   "cell_type": "code",
   "execution_count": null,
   "metadata": {
    "id": "Cotguzxyo3Sa"
   },
   "outputs": [],
   "source": [
    "# Write your codes for E3 here. Create more code cells if needed\n",
    "\n",
    "\n",
    "\n"
   ]
  },
  {
   "cell_type": "markdown",
   "metadata": {
    "id": "ws14iV4Dp_vf"
   },
   "source": [
    "---\n",
    "\n",
    "# 7. **Quiz and Report**\n",
    "\n",
    "Answer the assessment quiz that will be made available on Canvas one week before the final deadline. Make a 2-page report using the [IEEE template](https://www.overleaf.com/read/rdqwshtvyjdn) with a maximum of 1000 words. Latex is recommended, but you can deliver the report in MS Word if you prefer. Your report should contain five sections: introduction, description of the proposed solution with justifications, results (here you can include the same graphs and pictures generated in this jupyter notebook), discussion of the results, and conclusion. Properly cite references to articles, tutorials, and sources used. A pdf version of your report should be made available in the project's github repository under the name \"[project name] + _final_report.pdf\".\n",
    "\n",
    "\n",
    "[top](#scrollTo=4i5afvUbhmGo)"
   ]
  }
 ],
 "metadata": {
  "colab": {
   "provenance": []
  },
  "kernelspec": {
   "display_name": "Python 3 (ipykernel)",
   "language": "python",
   "name": "python3"
  },
  "language_info": {
   "codemirror_mode": {
    "name": "ipython",
    "version": 3
   },
   "file_extension": ".py",
   "mimetype": "text/x-python",
   "name": "python",
   "nbconvert_exporter": "python",
   "pygments_lexer": "ipython3",
   "version": "3.10.10"
  }
 },
 "nbformat": 4,
 "nbformat_minor": 1
}
