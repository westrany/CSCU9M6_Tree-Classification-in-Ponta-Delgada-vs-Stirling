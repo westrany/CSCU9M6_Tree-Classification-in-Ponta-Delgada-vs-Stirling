{
 "cells": [
  {
   "cell_type": "markdown",
   "metadata": {
    "id": "4i5afvUbhmGo"
   },
   "source": [
    "---\n",
    "\n",
    "#University of Stirling - Spring 2023\n",
    "\n",
    "## CSCU9M6 - Natural Language Processing and Computer Vision (2022/3)\n",
    "\n",
    "---"
   ]
  },
  {
   "cell_type": "markdown",
   "metadata": {
    "id": "cJZF464wk6Xh"
   },
   "source": [
    "# Assignment Summary\n",
    "\n",
    "In this activity, you are required to apply the knowledge acquired in this module through the design and development of a complete project for image classification in an application to be defined by yourself. For this, you will need to perform the following **mandatory** steps:\n",
    "\n",
    "1. [Problem definition](#scrollTo=hglJVRRslqMn)\n",
    "2. [GitHub repository](#scrollTo=ecxDhkV9qmUf)\n",
    "3. [Dataset](#scrollTo=qEgFzxmWrGA9)\n",
    "4. [Dataloader](#scrollTo=EDd6lLwlx4un)\n",
    "5. [Proposed solution](#scrollTo=ScTrpUW8zOp4)\n",
    "6. [Experimental tests and evaluations](#scrollTo=3RBW58of0ZDo)\n",
    "7. [Quiz and Report](#scrollTo=ws14iV4Dp_vf)\n",
    "\n",
    "**Deadlines** and other details can be seen on Canvas [\\[link\\]](https://canvas.stir.ac.uk/courses/12587/assignments/102373)."
   ]
  },
  {
   "cell_type": "markdown",
   "metadata": {
    "id": "hglJVRRslqMn"
   },
   "source": [
    "---\n",
    "\n",
    "# 1. **Problem definition** \n",
    "\n",
    "\n",
    "In this assignment, you are required to apply the knowledge acquired in the module to solve a classification problem from images collected in the context of two different cities (A and B).\n",
    " - If the work is being carried out in pairs, **cities A and B must be the hometowns of each student**. In the case of individual work, city A must be your hometown and city B must be Stirling (or Edinburgh, if needed).\n",
    " - The standard recommendation is that the project focuses on classifying cars or trees image scenes, which are easier to identify and annotate. Other objects or phenomena can be adopted, but are subject to prior approval by the module instructor (Jefersson A. dos Santos). **You are not allowed to assemble datasets containing people. Other sensitive patterns, such as license plates, must be properly hidden.**\n",
    " - Don't panic! We are aware that acquiring images _in situ_ is an impediment for most students. The dataset can be assembled with images collected remotely or from public repositories. Just be careful with rights and permissions for using images found on the internet. Anyway, these factors must be taken into account for the problem definition.\n",
    " - While we encourage you to do interesting and engaging work, it shouldn't be too complex or time-consuming. Try to appropriately scale the time required for this step. Ask the instructors for advice, if necessary. **GA students:** you are encouraged to link the project with your work activities, but keep in mind you still need to construct two datasets (A and B). \n",
    "\n",
    "[top](#scrollTo=4i5afvUbhmGo)\n",
    " "
   ]
  },
  {
   "cell_type": "markdown",
   "metadata": {
    "id": "ecxDhkV9qmUf"
   },
   "source": [
    "---\n",
    "# 2. **GitHub repository**\n",
    "\n",
    "Give your project a name, create a private [GitHub repository](https://github.com/) with the name [Module Code] + [Project Name] and give access to the module instructors. Create a cover page with a description of your project. This empty notebook must be uploaded in the repository as well as the created dataset. The deadline to perform this task will be 10 days after the publication of this notebook. \n",
    "This notebook should be updated and committed to the repository according to the deadlines.\n",
    "The repository's update history will be used as a criterion for monitoring and evaluating the work.\n",
    "**Check the videos provided in the extra section on Canvas for more details on how to create your GitHub repository** [\\[link\\]](https://canvas.stir.ac.uk/courses/12587/pages/extra-session-cnn-hyperparameters-and-github).\n",
    "\n",
    "[top](#scrollTo=4i5afvUbhmGo)"
   ]
  },
  {
   "cell_type": "markdown",
   "metadata": {
    "id": "qEgFzxmWrGA9"
   },
   "source": [
    "---\n",
    "# 3. **Dataset creation**\n",
    "\n",
    "You must collect a minimum of **200 positive samples** from the study objects for each city (A and B). \n",
    "Note that, depending on the task being solved, it will also be necessary to collect more samples - negative ones, for instance.\n",
    "\n",
    "Your dataset can be assembled from one or more of the following ways:\n",
    "\n",
    "  - *M1* - Pictures taken by yourself on site (street view from cities A and B), with attention to anonymization issues (if it is the case). It is not allowed to assemble datasets containing people. Other sensitive patterns, such as license plates, must be properly hidden.\n",
    "\n",
    "  - *M2* - Aerial satellite/drone images obtained from GIS and remote sensing platforms or public repositories. Be careful with unusual file formats that may be challenging to manipulate using basic image processing libraries. We recommend keeping or converting the images to jpg or png.\n",
    "\n",
    "  - *M3* - Pictures taken from other public available datasets. Remember you are not allowed to use datasets containing people or other sensitive patterns/objects.\n",
    "\n",
    "  - *M4* - Images crawled from the internet as a whole (social networks, webpages, etc), with special attention to use and copyrights.\n",
    "\n",
    "  - *M5* - Textual and metadata you may need in your project, with special attention to use and copyrights (as always!).\n",
    "\n",
    "**Important:** If you collect the images on your own or from aerial imagery repositories, it will be necessary to keep the geographic coordinates. If you collect from specific websites, please retain the source links. This information should be placed in a .csv file and made available along with the final dataset.\n",
    "\n",
    "[top](#scrollTo=4i5afvUbhmGo)"
   ]
  },
  {
   "cell_type": "markdown",
   "metadata": {
    "id": "EDd6lLwlx4un"
   },
   "source": [
    "---\n",
    "\n",
    "# 4. **Dataloader**\n",
    "\n",
    "Here you are required to implement all the code related to pre-processing, cleaning, de-noising and preparing the input images and metadata according to the necessary data structures as input to your pattern recognition module. We recommend using [PyTorch](https://pytorch.org/tutorials/beginner/basics/data_tutorial.html) or [Tensorflow (with Keras)](https://keras.io/getting_started/intro_to_keras_for_engineers/) as a base, but you are free to use any library or platform as long as it is well justified in the [final report](#scrollTo=ws14iV4Dp_vf).\n",
    "\n",
    "[top](scrollTo=4i5afvUbhmGo)"
   ]
  },
  {
   "cell_type": "code",
   "execution_count": null,
   "metadata": {},
   "outputs": [],
   "source": [
    "# import necessary libraries\n",
    "import cv2\n",
    "\n",
    "import os\n",
    "\n",
    "import numpy as np\n",
    "\n",
    "from random import shuffle\n",
    "\n",
    "from tqdm import tqdm\n",
    "\n",
    "import tensorflow as tf\n",
    "\n",
    "from tensorflow.keras.layers import Input, Conv2D\n",
    "\n",
    "import tflearn\n",
    "from tflearn.layers.conv import conv_2d, max_pool_2d\n",
    "from tflearn.layers.core import input_data, dropout, fully_connected\n",
    "from tflearn.layers.estimator import regression\n",
    "\n",
    "import matplotlib.pyplot as plt"
   ]
  },
  {
   "cell_type": "code",
   "execution_count": 1,
   "metadata": {
    "id": "RaPd82NmyNCK"
   },
   "outputs": [
    {
     "ename": "NameError",
     "evalue": "name 'tqdm' is not defined",
     "output_type": "error",
     "traceback": [
      "\u001b[1;31m---------------------------------------------------------------------------\u001b[0m",
      "\u001b[1;31mNameError\u001b[0m                                 Traceback (most recent call last)",
      "Cell \u001b[1;32mIn[1], line 111\u001b[0m\n\u001b[0;32m    105\u001b[0m     \u001b[38;5;28;01mreturn\u001b[39;00m testing_data\n\u001b[0;32m    110\u001b[0m \u001b[38;5;66;03m# run train and test data \u001b[39;00m\n\u001b[1;32m--> 111\u001b[0m train_data \u001b[38;5;241m=\u001b[39m \u001b[43mcreate_train_data\u001b[49m\u001b[43m(\u001b[49m\u001b[43m)\u001b[49m  \u001b[38;5;66;03m# loads from train_data.npy\u001b[39;00m\n\u001b[0;32m    112\u001b[0m test_data \u001b[38;5;241m=\u001b[39m process_test_data()   \u001b[38;5;66;03m# loads from test_data.npy\u001b[39;00m\n\u001b[0;32m    115\u001b[0m \u001b[38;5;66;03m# use tensorflow to create neural network\u001b[39;00m\n\u001b[0;32m    116\u001b[0m \n\u001b[0;32m    117\u001b[0m \u001b[38;5;66;03m# clear and reset default graph\u001b[39;00m\n",
      "Cell \u001b[1;32mIn[1], line 60\u001b[0m, in \u001b[0;36mcreate_train_data\u001b[1;34m()\u001b[0m\n\u001b[0;32m     57\u001b[0m training_data \u001b[38;5;241m=\u001b[39m []\n\u001b[0;32m     59\u001b[0m \u001b[38;5;66;03m# tqdm used for interactive loading of training data\u001b[39;00m\n\u001b[1;32m---> 60\u001b[0m \u001b[38;5;28;01mfor\u001b[39;00m img \u001b[38;5;129;01min\u001b[39;00m \u001b[43mtqdm\u001b[49m(os\u001b[38;5;241m.\u001b[39mlistdir(TRAIN_DIR)):\n\u001b[0;32m     61\u001b[0m     \n\u001b[0;32m     62\u001b[0m     \u001b[38;5;66;03m# label images\u001b[39;00m\n\u001b[0;32m     63\u001b[0m     label \u001b[38;5;241m=\u001b[39m label_img(img)\n\u001b[0;32m     65\u001b[0m     path \u001b[38;5;241m=\u001b[39m os\u001b[38;5;241m.\u001b[39mpath\u001b[38;5;241m.\u001b[39mjoin(TRAIN_DIR, img)\n",
      "\u001b[1;31mNameError\u001b[0m: name 'tqdm' is not defined"
     ]
    }
   ],
   "source": [
    "# based on code from Subhajit Saha on:\n",
    "# https://www.geeksforgeeks.org/image-classifier-using-cnn/\n",
    "\n",
    "# environment setup \n",
    "# learning rate set to 0.001\n",
    "TRAIN_DIR = 'C:/Users/maria/Documents/GitHub/CSCU9M6-2929300/Dataset/train'\n",
    "TEST_DIR = 'C:/Users/maria/Documents/GitHub/CSCU9M6-2929300/Dataset/test'\n",
    "IMG_SIZE = 50\n",
    "LR = 1e-3 \n",
    "\n",
    "\n",
    "# setup model to help tensorflow models\n",
    "MODEL_ONE = 'treeDetection-{}-{}.model'.format(LR, '6conv-basic')\n",
    "\n",
    "\n",
    "# label dataset\n",
    "def label_img(img):\n",
    "    word_label = img.split('.')[-3]\n",
    "    #hot encoder\n",
    "    if word_label == '': \n",
    "        return [0,0,0,0,0]\n",
    "    elif word_label == 'ara': \n",
    "        return [0,0,0,0,1]\n",
    "    elif word_label == 'ban':\n",
    "        return [0,0,0,1,0]\n",
    "    elif word_label == 'che':\n",
    "        return [0,0,1,0,0]\n",
    "    elif word_label == 'pal':\n",
    "        return [0,1,0,0,0]\n",
    "    elif word_label == 'pla': \n",
    "        return [1,0,0,0,0]\n",
    "    elif word_label == 'art': \n",
    "        return [0,0,0,1,1]\n",
    "    elif word_label == 'ced': \n",
    "        return [0,0,1,0,1]\n",
    "    elif word_label == 'ash': \n",
    "        return [0,1,0,0,1]\n",
    "    elif word_label == 'syc': \n",
    "        return [1,0,0,0,1]\n",
    "    elif word_label == 'oak': \n",
    "        return [0,0,1,1,1]\n",
    "    elif word_label == 'app': \n",
    "        return [0,1,0,1,1]\n",
    "    elif word_label == 'pin': \n",
    "        return [1,0,0,1,1]\n",
    "    elif word_label == 'bee': \n",
    "        return [0,1,1,1,1]\n",
    "    elif word_label == 'bct': \n",
    "        return [1,0,1,1,1]\n",
    "    elif word_label == 'not':\n",
    "        return [1,1,1,1,1]\n",
    "    \n",
    "\n",
    "# training data creation\n",
    "def create_train_data():\n",
    "    #empty list to store training data after processing\n",
    "    training_data = []\n",
    "    \n",
    "    # tqdm used for interactive loading of training data\n",
    "    for img in tqdm(os.listdir(TRAIN_DIR)):\n",
    "        \n",
    "        # label images\n",
    "        label = label_img(img)\n",
    "        \n",
    "        path = os.path.join(TRAIN_DIR, img)\n",
    "        \n",
    "        # load image from path\n",
    "        # convert into grayscale \n",
    "        \n",
    "        img = cv2.imread(path, cv2.IMREAD_GRAYSCALE)\n",
    "        \n",
    "        # resize image to process\n",
    "        # into covnet\n",
    "        img = cv2.resize(img, (IMG_SIZE, IMG_SIZE))\n",
    "        \n",
    "        # form trainind data list with \n",
    "        # image numpy array\n",
    "        training_data.append([np.array(img), np.array(label)])\n",
    "        \n",
    "    # shuffle training data to \n",
    "    # preserve random state\n",
    "    shuffle(training_data)\n",
    "    \n",
    "    # save trained data for further use\n",
    "    np.save('train_data.npy', training_data)\n",
    "    return training_data\n",
    "\n",
    "\n",
    "# process test data\n",
    "def process_test_data():\n",
    "    testing_data = []\n",
    "    for img in tqdm(os.listdir(TEST_DIR)):\n",
    "        path = os.path.join(TEST_DIR, img)\n",
    "        img_num = img.split('.')[0]\n",
    "        img = cv2.imread(path, cv2.IMREAD_GRAYSCALE)\n",
    "        img = cv2.resize(img, (IMG_SIZE, IMG_SIZE))\n",
    "        testing_data.append([np.array(img), img_num])\n",
    "        \n",
    "    # shuffle test data to\n",
    "    # preserve randomness \n",
    "    shuffle(testing_data)\n",
    "    \n",
    "    # save test data for further use\n",
    "    np.save('test_data.npy', testing_data)\n",
    "    return testing_data\n",
    "    \n",
    "\n",
    "\n",
    "\n",
    "# run train and test data \n",
    "train_data = create_train_data()  # loads from train_data.npy\n",
    "test_data = process_test_data()   # loads from test_data.npy\n",
    "\n",
    "\n",
    "# use tensorflow to create neural network\n",
    "\n",
    "# clear and reset default graph\n",
    "tf.compat.v1.reset_default_graph()\n",
    "\n",
    "# define input layer\n",
    "convnet = tflearn.input_data(shape=[None, IMG_SIZE, IMG_SIZE, 1], \n",
    "                         name='input')\n",
    "\n",
    "# define 1st convolutional layer\n",
    "convnet = tflearn.conv_2d(convnet, 32, 3, activation='relu')\n",
    "\n",
    "# define 2nd convolutional layer\n",
    "convnet = tflearn.conv_2d(convnet, 64, 3, activation='relu')\n",
    "\n",
    "# define pooling layer \n",
    "convnet = tflearn.max_pool_2d(convnet, 2)\n",
    "\n",
    "# define fully connected layer\n",
    "convnet = tflearn.fully_connected(convnet, 1024, activation='relu')\n",
    "\n",
    "# create CNN output layer with 2 neurons\n",
    "# use softmax activation funtion for multi-class classification\n",
    "convnet = tflearn.fully_connected(convnet, 2, activation='softmax')\n",
    "\n",
    "# define loss function (cat. cross entropy),\n",
    "# the optimizer (use pre-trained Adam),\n",
    "# learning rate (0.001),\n",
    "# and output layer name (targets)\n",
    "convnet = tflearn.regression(convnet, optimizer='adam', \n",
    "                             learning_rate=0.001, \n",
    "                             loss='categorical_crossentropy',\n",
    "                             name ='targets')\n",
    "\n",
    "# create tf DNN (Deep Neural Network) with specified architecture\n",
    "# write training info to log directory to\n",
    "# visualise with TensorBoard\n",
    "model = tflearn.DNN(convnet, tensorboard_verbose=0)\n",
    "\n",
    "\n",
    "# split test and train data\n",
    "train = train_data[:-500]\n",
    "test = test_data[-500:]\n",
    "\n",
    "\n",
    "# set up X-Features and Y-Labels\n",
    "# X is the input data used to train the model\n",
    "# Y is the expected output for each input\n",
    "# -1 in reshape function means that size of a dimension is\n",
    "# automatically calculated based on size of other dimensions\n",
    "# and lenght of input data\n",
    "X = np.array([i[0] for i in train]). reshape(-1, IMG_SIZE, IMG_SIZE, 1)\n",
    "Y = [i[1] for i in train]\n",
    "test_x = np.array([i[0] for i in train]). reshape(-1, IMG_SIZE, IMG_SIZE, 1)\n",
    "test_y = [i[1] for i in test]\n",
    "\n",
    "\n",
    "# fit data in model\n",
    "model.fit({'input':X}, {'targets':Y}, n_epoch = 5,\n",
    "         validation_set = ({'input': test_x}, {'targets': test_y}),\n",
    "         snapshot_step = 500, show_metric = True, run_id = MODEL_ONE)\n",
    "model.save(MODEL_ONE)\n",
    "\n",
    "\n",
    "# test data,\n",
    "# use the previously saved test_data.npy,\n",
    "# make picke True (its default is False) because otherwise \n",
    "# it wont allow loading of object arrays\n",
    "test_data = np.load('test_data.npy', allow_pickle=True)\n",
    "\n",
    "# create container for graph elements\n",
    "fig = plt.figure()\n",
    "\n",
    "\n",
    "# iterate over the first 15 elements of test_data,\n",
    "# assign a unique number and data element to variables 'num' and 'data'\n",
    "# on each iteration\n",
    "for num, data in enumerate(test_data[:15]):\n",
    "    \n",
    "    img_num = data[1]\n",
    "    \n",
    "    img_data = data[0]\n",
    "\n",
    "    # display image grid for visualization\n",
    "    # +1 indicates that subplot index starts at 1, not 0\n",
    "    if num <= 15:\n",
    "        y = fig.add_subplot(4, 4, num + 1)\n",
    "        # assign current image data to a new variable\n",
    "        orig = img_data\n",
    "        # plot the image data in the subplot\n",
    "        y.imshow(orig, cmap='gray')\n",
    "        # turn off the x and y axis labels\n",
    "        y.axes.get_xaxis().set_visible(False)\n",
    "        y.axes.get_yaxis().set_visible(False)\n",
    "    \n",
    "    \n",
    "    # reshape data into 3D numpy array \n",
    "    data = img_data.reshape(IMG_SIZE, IMG_SIZE, 1)\n",
    "    \n",
    "    # train model to generate a prediction for a \n",
    "    # single input data point\n",
    "    model_out = model.predict([data])[0]\n",
    "    \n",
    "    label_names = ['not','ara','ban','che','pal','pla','art','ced',\n",
    "                  'ash','syc','oak','app','pin','bee','bct']\n",
    "    \n",
    "    # use model output to predict the class of input data\n",
    "    model_out = model.predict([data])[0]\n",
    "    predicted_index = np.argmax(model_out)\n",
    "    str_label = label_names[predicted_index]\n",
    "            \n",
    "    # display original image data in grayscale\n",
    "    y.imshow(orig, cmap = 'gray')\n",
    "    # set subplot title to predicted label\n",
    "    plt.title(str_label)\n",
    "    # remove x-and-y-axis labels from subplot to improve visuals\n",
    "    y.axes.get_xaxis().set_visible(False)\n",
    "    y.axes.get_yaxis().set_visible(False)\n",
    "# display all graphs\n",
    "plt.show()\n",
    "\n",
    "# output image will not be very clear image size \n",
    "# has been reduced to 50x50\n",
    "\n",
    "# to access tensorboard, use the following command in cmd:\n",
    "# tensorboard --logdir=foo:C:\\Users\\knapseck\\Desktop\\Dev\\Cov_Net\\log"
   ]
  },
  {
   "cell_type": "markdown",
   "metadata": {
    "id": "ScTrpUW8zOp4"
   },
   "source": [
    "---\n",
    "\n",
    "# 5. **Proposed solution** \n",
    "\n",
    "This is where you should implement most of your code for your solution. Write the routines for training and predicting the models and any necessary intermediate steps. Post-processing functions must also be implemented here.\n",
    "\n",
    "  - Use good programming practices, modularizing and adequately commenting on your code. Code quality will be considered in the final assessment.\n",
    "\n",
    "  - You can use pre-trained models as backbones or any code available on the web as a basis, but they must be correctly credited and referenced both in this notebook and in the final report. Cite the source link repository and explicitly cite the authors of it.\n",
    "If you changed existing code, make it clear what the changes were.\n",
    "Make it clear where your own code starts and where it ends. Note that the originality percentage of the code will be considered in the evaluation, so use external codes wisely and sparingly. **Missconduct alert:** remember that there are many tools that compare existing source code and that it is relatively easy to identify authorship. So, be careful and fair by always properly thanking the authors if you use external code.\n",
    "\n",
    "[top](#scrollTo=4i5afvUbhmGo)"
   ]
  },
  {
   "cell_type": "code",
   "execution_count": null,
   "metadata": {
    "id": "jJs8HpW_zX0M"
   },
   "outputs": [],
   "source": []
  },
  {
   "cell_type": "markdown",
   "metadata": {
    "id": "3RBW58of0ZDo"
   },
   "source": [
    "---\n",
    "\n",
    "# 6. **Experimental tests and evaluations** \n",
    "\n",
    "\n",
    "Here you must implement your code for training, testing and evaluating your solution. For this, the following code blocks (*E1*, *E2*, and *E3*) are mandatory:\n",
    "\n",
    "  - *E1* - Training the models. Implement code to call the dataloaders implemented for training your models.  Make routines to test different parameters of your models. Plot graphs that illustrate how parameters impact model training. Compare. Train and select a model for each city (A and B) and justify. You should use half (50%) of the samples from each dataset for training and leave the other half for testing (50%). \n",
    "\n",
    "[top](#scrollTo=4i5afvUbhmGo)"
   ]
  },
  {
   "cell_type": "code",
   "execution_count": null,
   "metadata": {
    "id": "jHWwdXg32BEl"
   },
   "outputs": [],
   "source": [
    "# Write your codes for E1 here. Create more code cells if needed\n",
    "\n",
    "\n",
    "\n"
   ]
  },
  {
   "cell_type": "markdown",
   "metadata": {
    "id": "TunTimEv1szf"
   },
   "source": [
    "  - *E2* - Testing the models in the dataset. You must implement code routines to test the predictive ability of your models using half of each dataset intended for testing. **The model trained in city A must be tested in city A. The model trained in city B must be tested in city B.** Use the evaluation metrics (accuracy, F1-score, AUC, etc) that are most appropriate for your problem. Plot graphs that illustrate the results obtained for each city (A and B). Plot visual examples of correctly (true positive) and incorrectly (false positive) classified samples. \n",
    "\n",
    "[top](#scrollTo=4i5afvUbhmGo)\n"
   ]
  },
  {
   "cell_type": "code",
   "execution_count": null,
   "metadata": {
    "id": "_s6ygCpi2CO8"
   },
   "outputs": [],
   "source": [
    "# Write your codes for E2 here. Create more code cells if needed\n",
    "\n",
    "\n",
    "\n"
   ]
  },
  {
   "cell_type": "markdown",
   "metadata": {
    "id": "bZ0zVXjQ1x0_"
   },
   "source": [
    "  - *E3* - Testing the models crossing datasets. Here you must do exactly the same as in *E2*, but now training in one city and testing in the other. **The model trained in city A must be tested in city B. The model trained in city B must be tested in city A.** Use the same metrics and plot the same types of graphs so that results are comparable.\n",
    "\n",
    "[top](scrollTo=4i5afvUbhmGo)"
   ]
  },
  {
   "cell_type": "code",
   "execution_count": null,
   "metadata": {
    "id": "Cotguzxyo3Sa"
   },
   "outputs": [],
   "source": [
    "# Write your codes for E3 here. Create more code cells if needed\n",
    "\n",
    "\n",
    "\n"
   ]
  },
  {
   "cell_type": "markdown",
   "metadata": {
    "id": "ws14iV4Dp_vf"
   },
   "source": [
    "---\n",
    "\n",
    "# 7. **Quiz and Report**\n",
    "\n",
    "Answer the assessment quiz that will be made available on Canvas one week before the final deadline. Make a 2-page report using the [IEEE template](https://www.overleaf.com/read/rdqwshtvyjdn) with a maximum of 1000 words. Latex is recommended, but you can deliver the report in MS Word if you prefer. Your report should contain five sections: introduction, description of the proposed solution with justifications, results (here you can include the same graphs and pictures generated in this jupyter notebook), discussion of the results, and conclusion. Properly cite references to articles, tutorials, and sources used. A pdf version of your report should be made available in the project's github repository under the name \"[project name] + _final_report.pdf\".\n",
    "\n",
    "\n",
    "[top](#scrollTo=4i5afvUbhmGo)"
   ]
  }
 ],
 "metadata": {
  "colab": {
   "provenance": []
  },
  "kernelspec": {
   "display_name": "Python 3 (ipykernel)",
   "language": "python",
   "name": "python3"
  },
  "language_info": {
   "codemirror_mode": {
    "name": "ipython",
    "version": 3
   },
   "file_extension": ".py",
   "mimetype": "text/x-python",
   "name": "python",
   "nbconvert_exporter": "python",
   "pygments_lexer": "ipython3",
   "version": "3.10.10"
  }
 },
 "nbformat": 4,
 "nbformat_minor": 1
}
